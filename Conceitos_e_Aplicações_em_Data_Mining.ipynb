{
  "nbformat": 4,
  "nbformat_minor": 0,
  "metadata": {
    "colab": {
      "name": "Conceitos_e_Aplicações_em_Data_Mining.ipynb",
      "provenance": [],
      "collapsed_sections": [],
      "include_colab_link": true
    },
    "environment": {
      "name": "common-cpu.mnightly-2021-01-20-debian-10-test",
      "type": "gcloud",
      "uri": "gcr.io/deeplearning-platform-release/base-cpu:mnightly-2021-01-20-debian-10-test"
    },
    "kernelspec": {
      "display_name": "Python 3",
      "language": "python",
      "name": "python3"
    },
    "language_info": {
      "codemirror_mode": {
        "name": "ipython",
        "version": 3
      },
      "file_extension": ".py",
      "mimetype": "text/x-python",
      "name": "python",
      "nbconvert_exporter": "python",
      "pygments_lexer": "ipython3",
      "version": "3.7.9"
    }
  },
  "cells": [
    {
      "cell_type": "markdown",
      "metadata": {
        "id": "view-in-github",
        "colab_type": "text"
      },
      "source": [
        "<a href=\"https://colab.research.google.com/github/lucasbrassioli/fiap/blob/master/Conceitos_e_Aplica%C3%A7%C3%B5es_em_Data_Mining.ipynb\" target=\"_parent\"><img src=\"https://colab.research.google.com/assets/colab-badge.svg\" alt=\"Open In Colab\"/></a>"
      ]
    },
    {
      "cell_type": "code",
      "metadata": {
        "colab": {
          "base_uri": "https://localhost:8080/"
        },
        "id": "rMH4q-KkVsKB",
        "outputId": "551988bd-3191-4803-f27b-9bec314a3625"
      },
      "source": [
        "#Import Drive Instance\n",
        "import pandas as pd\n",
        "import seaborn as sns\n",
        "import numpy as np\n",
        "\n",
        "from sklearn.compose import ColumnTransformer\n",
        "from sklearn.preprocessing import Normalizer\n",
        "from sklearn.preprocessing import MinMaxScaler\n",
        "from sklearn.preprocessing import OneHotEncoder\n",
        "\n",
        "from sklearn.model_selection import train_test_split\n",
        "from tensorflow import keras\n",
        "from keras import metrics\n",
        "\n",
        "from sklearn.cluster import KMeans\n",
        "from sklearn.neighbors import KNeighborsClassifier\n",
        "from sklearn import metrics\n",
        "\n",
        "from google.colab import drive\n",
        "drive.mount('/content/gdrive')"
      ],
      "execution_count": null,
      "outputs": [
        {
          "output_type": "stream",
          "text": [
            "Drive already mounted at /content/gdrive; to attempt to forcibly remount, call drive.mount(\"/content/gdrive\", force_remount=True).\n"
          ],
          "name": "stdout"
        }
      ]
    },
    {
      "cell_type": "code",
      "metadata": {
        "id": "YiSkNJCzWOyj"
      },
      "source": [
        "#Verify environ\n",
        "import os\n",
        "os.environ['KAGGLE_CONFIG_DIR'] = \"/content/gdrive/MyDrive/Fiap/Conceitos_e_Aplicacoes_em_Data_Mining\""
      ],
      "execution_count": null,
      "outputs": []
    },
    {
      "cell_type": "code",
      "metadata": {
        "colab": {
          "base_uri": "https://localhost:8080/"
        },
        "id": "6cUdEKWQWy1Y",
        "outputId": "60570d09-543d-4e8d-83c8-c7e1d6ebc715"
      },
      "source": [
        "#Verify Path\n",
        "%cd /content/gdrive/My Drive/Fiap/Conceitos_e_Aplicacoes_em_Data_Mining"
      ],
      "execution_count": null,
      "outputs": [
        {
          "output_type": "stream",
          "text": [
            "/content/gdrive/My Drive/Fiap/Conceitos_e_Aplicacoes_em_Data_Mining\n"
          ],
          "name": "stdout"
        }
      ]
    },
    {
      "cell_type": "code",
      "metadata": {
        "colab": {
          "base_uri": "https://localhost:8080/"
        },
        "id": "06qqAodoXS0o",
        "outputId": "0bc8060d-5738-4eb6-c524-5261631b1144"
      },
      "source": [
        "#Verify file\n",
        "%ls"
      ],
      "execution_count": null,
      "outputs": [
        {
          "output_type": "stream",
          "text": [
            "UseAmarelo.csv\n"
          ],
          "name": "stdout"
        }
      ]
    },
    {
      "cell_type": "code",
      "metadata": {
        "colab": {
          "base_uri": "https://localhost:8080/",
          "height": 288
        },
        "id": "nE37HIrXWpwP",
        "outputId": "2324cecb-2bc0-4c34-ef61-c6c561a73a43"
      },
      "source": [
        "#read file\n",
        "df = pd.read_csv('UseAmarelo.csv',sep=';')\n",
        "df[:2]"
      ],
      "execution_count": null,
      "outputs": [
        {
          "output_type": "execute_result",
          "data": {
            "text/html": [
              "<div>\n",
              "<style scoped>\n",
              "    .dataframe tbody tr th:only-of-type {\n",
              "        vertical-align: middle;\n",
              "    }\n",
              "\n",
              "    .dataframe tbody tr th {\n",
              "        vertical-align: top;\n",
              "    }\n",
              "\n",
              "    .dataframe thead th {\n",
              "        text-align: right;\n",
              "    }\n",
              "</style>\n",
              "<table border=\"1\" class=\"dataframe\">\n",
              "  <thead>\n",
              "    <tr style=\"text-align: right;\">\n",
              "      <th></th>\n",
              "      <th>Date</th>\n",
              "      <th>Headline</th>\n",
              "      <th>URL</th>\n",
              "      <th>Opening Text</th>\n",
              "      <th>Hit Sentence</th>\n",
              "      <th>Source</th>\n",
              "      <th>Influencer</th>\n",
              "      <th>Country</th>\n",
              "      <th>Subregion</th>\n",
              "      <th>Language</th>\n",
              "      <th>Reach</th>\n",
              "      <th>Desktop Reach</th>\n",
              "      <th>Mobile Reach</th>\n",
              "      <th>Twitter Social Echo</th>\n",
              "      <th>Facebook Social Echo</th>\n",
              "      <th>Reddit Social Echo</th>\n",
              "      <th>National Viewership</th>\n",
              "      <th>Engagement</th>\n",
              "      <th>AVE</th>\n",
              "      <th>Sentiment</th>\n",
              "      <th>Key Phrases</th>\n",
              "      <th>Input Name</th>\n",
              "      <th>Keywords</th>\n",
              "      <th>Twitter Authority</th>\n",
              "      <th>Tweet Id</th>\n",
              "      <th>Twitter Id</th>\n",
              "      <th>Twitter Client</th>\n",
              "      <th>Twitter Screen Name</th>\n",
              "      <th>Twitter User Profile Url</th>\n",
              "      <th>Twitter Bio</th>\n",
              "      <th>Twitter Followers</th>\n",
              "      <th>Twitter Following</th>\n",
              "      <th>Alternate Date Format</th>\n",
              "      <th>Time</th>\n",
              "      <th>State</th>\n",
              "      <th>City</th>\n",
              "      <th>Document Tags</th>\n",
              "    </tr>\n",
              "  </thead>\n",
              "  <tbody>\n",
              "    <tr>\n",
              "      <th>0</th>\n",
              "      <td>26-Jul-2020 03:24PM</td>\n",
              "      <td>NaN</td>\n",
              "      <td>https://twitter.com/Joaovc_28/statuses/1287453...</td>\n",
              "      <td>NaN</td>\n",
              "      <td>RT @BradoRevista: Junte-se a nós e #UseAmarelo...</td>\n",
              "      <td>Twitter</td>\n",
              "      <td>@joaovc_28</td>\n",
              "      <td>Unknown</td>\n",
              "      <td>NaN</td>\n",
              "      <td>Portuguese</td>\n",
              "      <td>314</td>\n",
              "      <td>0</td>\n",
              "      <td>0</td>\n",
              "      <td>NaN</td>\n",
              "      <td>NaN</td>\n",
              "      <td>NaN</td>\n",
              "      <td>0</td>\n",
              "      <td>NaN</td>\n",
              "      <td>2.9</td>\n",
              "      <td>Positive</td>\n",
              "      <td>próximos dias</td>\n",
              "      <td>Adhoc Search Export</td>\n",
              "      <td>#UseAmarelo</td>\n",
              "      <td>5.0</td>\n",
              "      <td>'1287453671039664129'</td>\n",
              "      <td>9,29152E+17</td>\n",
              "      <td>Twitter for Android</td>\n",
              "      <td>Jão 🇧🇷</td>\n",
              "      <td>https://twitter.com/Joaovc_28</td>\n",
              "      <td>Mágico das frases endiabradas sem mel</td>\n",
              "      <td>314.0</td>\n",
              "      <td>605.0</td>\n",
              "      <td>Jul 26, 2020</td>\n",
              "      <td>3:24 PM</td>\n",
              "      <td>NaN</td>\n",
              "      <td>NaN</td>\n",
              "      <td>NaN</td>\n",
              "    </tr>\n",
              "    <tr>\n",
              "      <th>1</th>\n",
              "      <td>26-Jul-2020 03:23PM</td>\n",
              "      <td>NaN</td>\n",
              "      <td>https://twitter.com/Joaovc_28/statuses/1287453...</td>\n",
              "      <td>NaN</td>\n",
              "      <td>RT @BradoRevista: Em 26 de junho, aniversário ...</td>\n",
              "      <td>Twitter</td>\n",
              "      <td>@joaovc_28</td>\n",
              "      <td>Unknown</td>\n",
              "      <td>NaN</td>\n",
              "      <td>Portuguese</td>\n",
              "      <td>314</td>\n",
              "      <td>0</td>\n",
              "      <td>0</td>\n",
              "      <td>NaN</td>\n",
              "      <td>NaN</td>\n",
              "      <td>NaN</td>\n",
              "      <td>0</td>\n",
              "      <td>NaN</td>\n",
              "      <td>2.9</td>\n",
              "      <td>Neutral</td>\n",
              "      <td>NaN</td>\n",
              "      <td>Adhoc Search Export</td>\n",
              "      <td>#UseAmarelo</td>\n",
              "      <td>5.0</td>\n",
              "      <td>'1287453611019182087'</td>\n",
              "      <td>9,29152E+17</td>\n",
              "      <td>Twitter for Android</td>\n",
              "      <td>Jão 🇧🇷</td>\n",
              "      <td>https://twitter.com/Joaovc_28</td>\n",
              "      <td>Mágico das frases endiabradas sem mel</td>\n",
              "      <td>314.0</td>\n",
              "      <td>605.0</td>\n",
              "      <td>Jul 26, 2020</td>\n",
              "      <td>3:23 PM</td>\n",
              "      <td>NaN</td>\n",
              "      <td>NaN</td>\n",
              "      <td>NaN</td>\n",
              "    </tr>\n",
              "  </tbody>\n",
              "</table>\n",
              "</div>"
            ],
            "text/plain": [
              "                  Date  Headline  ... City  Document Tags\n",
              "0  26-Jul-2020 03:24PM       NaN  ...  NaN            NaN\n",
              "1  26-Jul-2020 03:23PM       NaN  ...  NaN            NaN\n",
              "\n",
              "[2 rows x 37 columns]"
            ]
          },
          "metadata": {
            "tags": []
          },
          "execution_count": 85
        }
      ]
    },
    {
      "cell_type": "code",
      "metadata": {
        "colab": {
          "base_uri": "https://localhost:8080/"
        },
        "id": "NJs6d7g6Xmon",
        "outputId": "aed13c42-b479-4e2d-cc55-5cedca2fbf9c"
      },
      "source": [
        "df.columns"
      ],
      "execution_count": null,
      "outputs": [
        {
          "output_type": "execute_result",
          "data": {
            "text/plain": [
              "Index(['Date', 'Headline', 'URL', 'Opening Text', 'Hit Sentence', 'Source',\n",
              "       'Influencer', 'Country', 'Subregion', 'Language', 'Reach',\n",
              "       'Desktop Reach', 'Mobile Reach', 'Twitter Social Echo',\n",
              "       'Facebook Social Echo', 'Reddit Social Echo', 'National Viewership',\n",
              "       'Engagement', 'AVE', 'Sentiment', 'Key Phrases', 'Input Name',\n",
              "       'Keywords', 'Twitter Authority', 'Tweet Id', 'Twitter Id',\n",
              "       'Twitter Client', 'Twitter Screen Name', 'Twitter User Profile Url',\n",
              "       'Twitter Bio', 'Twitter Followers', 'Twitter Following',\n",
              "       'Alternate Date Format', 'Time', 'State', 'City', 'Document Tags'],\n",
              "      dtype='object')"
            ]
          },
          "metadata": {
            "tags": []
          },
          "execution_count": 89
        }
      ]
    },
    {
      "cell_type": "code",
      "metadata": {
        "colab": {
          "base_uri": "https://localhost:8080/"
        },
        "id": "vaDtQRO1d-xR",
        "outputId": "238ea691-6930-4a1a-c1b1-11e11ee61244"
      },
      "source": [
        "df.dtypes          "
      ],
      "execution_count": null,
      "outputs": [
        {
          "output_type": "execute_result",
          "data": {
            "text/plain": [
              "Date                         object\n",
              "Headline                    float64\n",
              "URL                          object\n",
              "Opening Text                float64\n",
              "Hit Sentence                 object\n",
              "Source                       object\n",
              "Influencer                   object\n",
              "Country                      object\n",
              "Subregion                   float64\n",
              "Language                     object\n",
              "Reach                         int64\n",
              "Desktop Reach                 int64\n",
              "Mobile Reach                  int64\n",
              "Twitter Social Echo         float64\n",
              "Facebook Social Echo        float64\n",
              "Reddit Social Echo          float64\n",
              "National Viewership           int64\n",
              "Engagement                  float64\n",
              "AVE                         float64\n",
              "Sentiment                    object\n",
              "Key Phrases                  object\n",
              "Input Name                   object\n",
              "Keywords                     object\n",
              "Twitter Authority           float64\n",
              "Tweet Id                     object\n",
              "Twitter Id                   object\n",
              "Twitter Client               object\n",
              "Twitter Screen Name          object\n",
              "Twitter User Profile Url     object\n",
              "Twitter Bio                  object\n",
              "Twitter Followers           float64\n",
              "Twitter Following           float64\n",
              "Alternate Date Format        object\n",
              "Time                         object\n",
              "State                        object\n",
              "City                         object\n",
              "Document Tags               float64\n",
              "dtype: object"
            ]
          },
          "metadata": {
            "tags": []
          },
          "execution_count": 90
        }
      ]
    },
    {
      "cell_type": "code",
      "metadata": {
        "colab": {
          "base_uri": "https://localhost:8080/"
        },
        "id": "FEKUywVom1qn",
        "outputId": "9312fd07-839a-4698-9d91-fb5e30fadbb2"
      },
      "source": [
        "print(df.isna().sum())"
      ],
      "execution_count": null,
      "outputs": [
        {
          "output_type": "stream",
          "text": [
            "Date                            0\n",
            "Headline                    19411\n",
            "URL                             0\n",
            "Opening Text                19411\n",
            "Hit Sentence                    0\n",
            "Source                          0\n",
            "Influencer                      0\n",
            "Country                         0\n",
            "Subregion                   19411\n",
            "Language                        0\n",
            "Reach                           0\n",
            "Desktop Reach                   0\n",
            "Mobile Reach                    0\n",
            "Twitter Social Echo         19411\n",
            "Facebook Social Echo        19411\n",
            "Reddit Social Echo          19411\n",
            "National Viewership             0\n",
            "Engagement                  19111\n",
            "AVE                             0\n",
            "Sentiment                       0\n",
            "Key Phrases                  7033\n",
            "Input Name                      0\n",
            "Keywords                        1\n",
            "Twitter Authority             352\n",
            "Tweet Id                        0\n",
            "Twitter Id                      0\n",
            "Twitter Client                  0\n",
            "Twitter Screen Name             1\n",
            "Twitter User Profile Url        0\n",
            "Twitter Bio                  4295\n",
            "Twitter Followers             135\n",
            "Twitter Following              50\n",
            "Alternate Date Format           0\n",
            "Time                            0\n",
            "State                        7873\n",
            "City                        10785\n",
            "Document Tags               19411\n",
            "dtype: int64\n"
          ],
          "name": "stdout"
        }
      ]
    },
    {
      "cell_type": "code",
      "metadata": {
        "id": "kyDWYyiZuZ0K"
      },
      "source": [
        "df_ini = df\n",
        "df = df[['Twitter Authority','Twitter Followers','Twitter Following','Reach','Language','Country','Sentiment']]\n",
        "df = df.drop_duplicates()"
      ],
      "execution_count": null,
      "outputs": []
    },
    {
      "cell_type": "code",
      "metadata": {
        "colab": {
          "base_uri": "https://localhost:8080/",
          "height": 394
        },
        "id": "gjNqCSb9ZEC4",
        "outputId": "835dc004-89b5-4b01-aa03-5b99f7c8e728"
      },
      "source": [
        "df.describe(include='all')"
      ],
      "execution_count": null,
      "outputs": [
        {
          "output_type": "execute_result",
          "data": {
            "text/html": [
              "<div>\n",
              "<style scoped>\n",
              "    .dataframe tbody tr th:only-of-type {\n",
              "        vertical-align: middle;\n",
              "    }\n",
              "\n",
              "    .dataframe tbody tr th {\n",
              "        vertical-align: top;\n",
              "    }\n",
              "\n",
              "    .dataframe thead th {\n",
              "        text-align: right;\n",
              "    }\n",
              "</style>\n",
              "<table border=\"1\" class=\"dataframe\">\n",
              "  <thead>\n",
              "    <tr style=\"text-align: right;\">\n",
              "      <th></th>\n",
              "      <th>Twitter Authority</th>\n",
              "      <th>Twitter Followers</th>\n",
              "      <th>Twitter Following</th>\n",
              "      <th>Reach</th>\n",
              "      <th>Language</th>\n",
              "      <th>Country</th>\n",
              "      <th>Sentiment</th>\n",
              "    </tr>\n",
              "  </thead>\n",
              "  <tbody>\n",
              "    <tr>\n",
              "      <th>count</th>\n",
              "      <td>17405.000000</td>\n",
              "      <td>1.761300e+04</td>\n",
              "      <td>17686.000000</td>\n",
              "      <td>1.771400e+04</td>\n",
              "      <td>17714</td>\n",
              "      <td>17714</td>\n",
              "      <td>17714</td>\n",
              "    </tr>\n",
              "    <tr>\n",
              "      <th>unique</th>\n",
              "      <td>NaN</td>\n",
              "      <td>NaN</td>\n",
              "      <td>NaN</td>\n",
              "      <td>NaN</td>\n",
              "      <td>34</td>\n",
              "      <td>124</td>\n",
              "      <td>4</td>\n",
              "    </tr>\n",
              "    <tr>\n",
              "      <th>top</th>\n",
              "      <td>NaN</td>\n",
              "      <td>NaN</td>\n",
              "      <td>NaN</td>\n",
              "      <td>NaN</td>\n",
              "      <td>Portuguese</td>\n",
              "      <td>Brazil</td>\n",
              "      <td>Neutral</td>\n",
              "    </tr>\n",
              "    <tr>\n",
              "      <th>freq</th>\n",
              "      <td>NaN</td>\n",
              "      <td>NaN</td>\n",
              "      <td>NaN</td>\n",
              "      <td>NaN</td>\n",
              "      <td>16519</td>\n",
              "      <td>9472</td>\n",
              "      <td>12982</td>\n",
              "    </tr>\n",
              "    <tr>\n",
              "      <th>mean</th>\n",
              "      <td>4.400977</td>\n",
              "      <td>7.097334e+04</td>\n",
              "      <td>2758.172227</td>\n",
              "      <td>7.056867e+04</td>\n",
              "      <td>NaN</td>\n",
              "      <td>NaN</td>\n",
              "      <td>NaN</td>\n",
              "    </tr>\n",
              "    <tr>\n",
              "      <th>std</th>\n",
              "      <td>1.840649</td>\n",
              "      <td>7.128967e+05</td>\n",
              "      <td>16815.981035</td>\n",
              "      <td>7.108814e+05</td>\n",
              "      <td>NaN</td>\n",
              "      <td>NaN</td>\n",
              "      <td>NaN</td>\n",
              "    </tr>\n",
              "    <tr>\n",
              "      <th>min</th>\n",
              "      <td>1.000000</td>\n",
              "      <td>1.000000e+00</td>\n",
              "      <td>1.000000</td>\n",
              "      <td>0.000000e+00</td>\n",
              "      <td>NaN</td>\n",
              "      <td>NaN</td>\n",
              "      <td>NaN</td>\n",
              "    </tr>\n",
              "    <tr>\n",
              "      <th>25%</th>\n",
              "      <td>3.000000</td>\n",
              "      <td>7.100000e+01</td>\n",
              "      <td>201.250000</td>\n",
              "      <td>6.825000e+01</td>\n",
              "      <td>NaN</td>\n",
              "      <td>NaN</td>\n",
              "      <td>NaN</td>\n",
              "    </tr>\n",
              "    <tr>\n",
              "      <th>50%</th>\n",
              "      <td>4.000000</td>\n",
              "      <td>2.690000e+02</td>\n",
              "      <td>484.000000</td>\n",
              "      <td>2.660000e+02</td>\n",
              "      <td>NaN</td>\n",
              "      <td>NaN</td>\n",
              "      <td>NaN</td>\n",
              "    </tr>\n",
              "    <tr>\n",
              "      <th>75%</th>\n",
              "      <td>6.000000</td>\n",
              "      <td>9.520000e+02</td>\n",
              "      <td>1222.000000</td>\n",
              "      <td>9.437500e+02</td>\n",
              "      <td>NaN</td>\n",
              "      <td>NaN</td>\n",
              "      <td>NaN</td>\n",
              "    </tr>\n",
              "    <tr>\n",
              "      <th>max</th>\n",
              "      <td>10.000000</td>\n",
              "      <td>1.309845e+07</td>\n",
              "      <td>178519.000000</td>\n",
              "      <td>1.309845e+07</td>\n",
              "      <td>NaN</td>\n",
              "      <td>NaN</td>\n",
              "      <td>NaN</td>\n",
              "    </tr>\n",
              "  </tbody>\n",
              "</table>\n",
              "</div>"
            ],
            "text/plain": [
              "        Twitter Authority  Twitter Followers  ...  Country  Sentiment\n",
              "count        17405.000000       1.761300e+04  ...    17714      17714\n",
              "unique                NaN                NaN  ...      124          4\n",
              "top                   NaN                NaN  ...   Brazil    Neutral\n",
              "freq                  NaN                NaN  ...     9472      12982\n",
              "mean             4.400977       7.097334e+04  ...      NaN        NaN\n",
              "std              1.840649       7.128967e+05  ...      NaN        NaN\n",
              "min              1.000000       1.000000e+00  ...      NaN        NaN\n",
              "25%              3.000000       7.100000e+01  ...      NaN        NaN\n",
              "50%              4.000000       2.690000e+02  ...      NaN        NaN\n",
              "75%              6.000000       9.520000e+02  ...      NaN        NaN\n",
              "max             10.000000       1.309845e+07  ...      NaN        NaN\n",
              "\n",
              "[11 rows x 7 columns]"
            ]
          },
          "metadata": {
            "tags": []
          },
          "execution_count": 93
        }
      ]
    },
    {
      "cell_type": "code",
      "metadata": {
        "colab": {
          "base_uri": "https://localhost:8080/"
        },
        "id": "TpAxYsdk9MM2",
        "outputId": "fc49dae1-921c-4682-a8ca-2298d9b955b6"
      },
      "source": [
        "df.replace(['nan','NaN','Unknown'],'unknown', inplace = True)\n",
        "df_clear = df.dropna()\n",
        "df_clear.shape"
      ],
      "execution_count": null,
      "outputs": [
        {
          "output_type": "execute_result",
          "data": {
            "text/plain": [
              "(17339, 7)"
            ]
          },
          "metadata": {
            "tags": []
          },
          "execution_count": 94
        }
      ]
    },
    {
      "cell_type": "code",
      "metadata": {
        "colab": {
          "base_uri": "https://localhost:8080/",
          "height": 285
        },
        "id": "LE5OQb6xZI5g",
        "outputId": "0cb44301-b120-49d0-b14a-0128e98b5d82"
      },
      "source": [
        "sns.set_theme(style=\"darkgrid\")\n",
        "ax = sns.countplot(x=\"Sentiment\", data=df_clear, order = df_clear['Sentiment'].value_counts().index)"
      ],
      "execution_count": null,
      "outputs": [
        {
          "output_type": "display_data",
          "data": {
            "image/png": "[encoded data removed]",
            "text/plain": [
              "<Figure size 432x288 with 1 Axes>"
            ]
          },
          "metadata": {
            "tags": []
          }
        }
      ]
    },
    {
      "cell_type": "code",
      "metadata": {
        "colab": {
          "base_uri": "https://localhost:8080/"
        },
        "id": "zFi93BWrQ2nR",
        "outputId": "4c242be5-7cc6-4cd7-c167-1f67d0cf40b2"
      },
      "source": [
        "df_clear['Sentiment'].unique()"
      ],
      "execution_count": null,
      "outputs": [
        {
          "output_type": "execute_result",
          "data": {
            "text/plain": [
              "array(['Positive', 'Neutral', 'Negative', 'Not Rated'], dtype=object)"
            ]
          },
          "metadata": {
            "tags": []
          },
          "execution_count": 96
        }
      ]
    },
    {
      "cell_type": "code",
      "metadata": {
        "id": "LbtPOwziPqGu",
        "colab": {
          "base_uri": "https://localhost:8080/"
        },
        "outputId": "6a369932-bfc5-4006-aeaf-f1a8097a76a0"
      },
      "source": [
        "conditions = [\n",
        "    (df_clear['Sentiment'] == 'Positive'),\n",
        "    (df_clear['Sentiment'] == 'Neutral'),\n",
        "    (df_clear['Sentiment'] == 'Negative'),\n",
        "    (df_clear['Sentiment'] == 'Not Rated')\n",
        "]\n",
        "choices = [1, 2, 3, 4]\n",
        "df_clear['Ct_Sentiment'] = (np.select(conditions, choices)).astype(int)"
      ],
      "execution_count": null,
      "outputs": [
        {
          "output_type": "stream",
          "text": [
            "/usr/local/lib/python3.7/dist-packages/ipykernel_launcher.py:8: SettingWithCopyWarning: \n",
            "A value is trying to be set on a copy of a slice from a DataFrame.\n",
            "Try using .loc[row_indexer,col_indexer] = value instead\n",
            "\n",
            "See the caveats in the documentation: https://pandas.pydata.org/pandas-docs/stable/user_guide/indexing.html#returning-a-view-versus-a-copy\n",
            "  \n"
          ],
          "name": "stderr"
        }
      ]
    },
    {
      "cell_type": "code",
      "metadata": {
        "colab": {
          "base_uri": "https://localhost:8080/",
          "height": 355
        },
        "id": "MDYtiecnk-9c",
        "outputId": "f7717942-031a-4d3b-a003-400b03e97852"
      },
      "source": [
        "corr = df_clear.corr()\n",
        "sns.heatmap(corr, cmap='RdBu', fmt='.2f', square=True, linecolor='white', annot=True);"
      ],
      "execution_count": null,
      "outputs": [
        {
          "output_type": "display_data",
          "data": {
            "image/png": "[encoded data removed]",
            "text/plain": [
              "<Figure size 432x288 with 2 Axes>"
            ]
          },
          "metadata": {
            "tags": []
          }
        }
      ]
    },
    {
      "cell_type": "code",
      "metadata": {
        "id": "WwBW5wf0G5cd"
      },
      "source": [
        "def get_features_names(column_transfomer, input_features):\n",
        "    output_features = []\n",
        "    \n",
        "    founded = []\n",
        "    for transfomer in column_transfomer.transformers_:\n",
        "        if hasattr(transfomer[1], 'get_feature_names'):\n",
        "            tmp = transfomer[1].get_feature_names(input_features=transfomer[2])\n",
        "            output_features += list(tmp)\n",
        "        elif transfomer[1] == 'passthrough':\n",
        "            output_features += list(input_features[transfomer[2]])\n",
        "        else:\n",
        "            output_features += list(transfomer[2])\n",
        "   \n",
        "    return output_features"
      ],
      "execution_count": null,
      "outputs": []
    },
    {
      "cell_type": "code",
      "metadata": {
        "id": "v4aPXiHrG85c"
      },
      "source": [
        "# X-> Features, y-> target\n",
        "X = pd.DataFrame(df_clear)\n",
        "y = df_clear['Ct_Sentiment']"
      ],
      "execution_count": null,
      "outputs": []
    },
    {
      "cell_type": "code",
      "metadata": {
        "id": "kzwtevymHAAU"
      },
      "source": [
        "tmp = X.dtypes\n",
        "features_cat = list(tmp[tmp=='O'].index)\n",
        "features_not_cat = list(tmp[tmp!='O'].index)"
      ],
      "execution_count": null,
      "outputs": []
    },
    {
      "cell_type": "code",
      "metadata": {
        "id": "wo2fAAmyHBsc"
      },
      "source": [
        "transfomers_list = [('one_hot', OneHotEncoder(handle_unknown='ignore', sparse=False), features_cat),\n",
        "                    ('normalizer', MinMaxScaler(), features_not_cat)]"
      ],
      "execution_count": null,
      "outputs": []
    },
    {
      "cell_type": "code",
      "metadata": {
        "colab": {
          "base_uri": "https://localhost:8080/"
        },
        "id": "7E1Dn82DH8HM",
        "outputId": "1d43873a-ae9d-44f3-c429-2f8ee9542779"
      },
      "source": [
        "column_tranformer = ColumnTransformer(transformers=transfomers_list, remainder='passthrough')\n",
        "column_tranformer"
      ],
      "execution_count": null,
      "outputs": [
        {
          "output_type": "execute_result",
          "data": {
            "text/plain": [
              "ColumnTransformer(n_jobs=None, remainder='passthrough', sparse_threshold=0.3,\n",
              "                  transformer_weights=None,\n",
              "                  transformers=[('one_hot',\n",
              "                                 OneHotEncoder(categories='auto', drop=None,\n",
              "                                               dtype=<class 'numpy.float64'>,\n",
              "                                               handle_unknown='ignore',\n",
              "                                               sparse=False),\n",
              "                                 ['Language', 'Country', 'Sentiment']),\n",
              "                                ('normalizer',\n",
              "                                 MinMaxScaler(copy=True, feature_range=(0, 1)),\n",
              "                                 ['Twitter Authority', 'Twitter Followers',\n",
              "                                  'Twitter Following', 'Reach',\n",
              "                                  'Ct_Sentiment'])],\n",
              "                  verbose=False)"
            ]
          },
          "metadata": {
            "tags": []
          },
          "execution_count": 103
        }
      ]
    },
    {
      "cell_type": "code",
      "metadata": {
        "id": "8mgWrNsMHlI8"
      },
      "source": [
        "column_tranformer = column_tranformer.fit(X, y)"
      ],
      "execution_count": null,
      "outputs": []
    },
    {
      "cell_type": "code",
      "metadata": {
        "colab": {
          "base_uri": "https://localhost:8080/"
        },
        "id": "Ra8zFtV3MmVV",
        "outputId": "3c9a293e-1387-40dd-a82c-dd9d7791c7a8"
      },
      "source": [
        "X_t = column_tranformer.transform(X)\n",
        "X_t"
      ],
      "execution_count": null,
      "outputs": [
        {
          "output_type": "execute_result",
          "data": {
            "text/plain": [
              "array([[0.00000000e+00, 0.00000000e+00, 0.00000000e+00, ...,\n",
              "        3.38341232e-03, 2.38959626e-05, 0.00000000e+00],\n",
              "       [0.00000000e+00, 0.00000000e+00, 0.00000000e+00, ...,\n",
              "        3.38341232e-03, 2.38959626e-05, 3.33333333e-01],\n",
              "       [0.00000000e+00, 0.00000000e+00, 0.00000000e+00, ...,\n",
              "        9.52284924e-05, 7.17642328e-06, 0.00000000e+00],\n",
              "       ...,\n",
              "       [0.00000000e+00, 0.00000000e+00, 0.00000000e+00, ...,\n",
              "        2.36390728e-03, 5.34414500e-06, 3.33333333e-01],\n",
              "       [0.00000000e+00, 0.00000000e+00, 0.00000000e+00, ...,\n",
              "        2.53195756e-03, 2.97745221e-06, 0.00000000e+00],\n",
              "       [0.00000000e+00, 0.00000000e+00, 0.00000000e+00, ...,\n",
              "        9.63488276e-04, 5.11511021e-06, 6.66666667e-01]])"
            ]
          },
          "metadata": {
            "tags": []
          },
          "execution_count": 105
        }
      ]
    },
    {
      "cell_type": "code",
      "metadata": {
        "id": "-kEUpj3NMsMH"
      },
      "source": [
        "output_features = get_features_names(column_tranformer, input_features=X.columns) # obtem nomes das features na saida \n",
        "df_t = pd.DataFrame(X_t, columns=output_features) # cria dataframe de saida"
      ],
      "execution_count": null,
      "outputs": []
    },
    {
      "cell_type": "code",
      "metadata": {
        "colab": {
          "base_uri": "https://localhost:8080/"
        },
        "id": "3rnXuaU2M-SG",
        "outputId": "83423d50-6b45-4518-9b50-81236623d084"
      },
      "source": [
        "df_t.columns"
      ],
      "execution_count": null,
      "outputs": [
        {
          "output_type": "execute_result",
          "data": {
            "text/plain": [
              "Index(['Language_Afrikaans', 'Language_Albanian', 'Language_Basque',\n",
              "       'Language_Catalan', 'Language_Croatian', 'Language_Dutch',\n",
              "       'Language_English', 'Language_Estonian', 'Language_Filipino',\n",
              "       'Language_Finnish',\n",
              "       ...\n",
              "       'Country_unknown', 'Sentiment_Negative', 'Sentiment_Neutral',\n",
              "       'Sentiment_Not Rated', 'Sentiment_Positive', 'Twitter Authority',\n",
              "       'Twitter Followers', 'Twitter Following', 'Reach', 'Ct_Sentiment'],\n",
              "      dtype='object', length=167)"
            ]
          },
          "metadata": {
            "tags": []
          },
          "execution_count": 109
        }
      ]
    },
    {
      "cell_type": "code",
      "metadata": {
        "id": "0VI6ZNtIt0OC"
      },
      "source": [
        "X=df_t\n",
        "y=df_t['Ct_Sentiment']"
      ],
      "execution_count": null,
      "outputs": []
    },
    {
      "cell_type": "code",
      "metadata": {
        "id": "fr3B6aYf652W"
      },
      "source": [
        "# Split dataset into training set and test set\n",
        "X_train, X_test,y_train,y_test = train_test_split(X,y,test_size=0.3) # 70% training and 30% test"
      ],
      "execution_count": null,
      "outputs": []
    },
    {
      "cell_type": "code",
      "metadata": {
        "id": "S2k1A682BXTa"
      },
      "source": [
        "nn = keras.Sequential([\n",
        "      keras.layers.Input(167),\n",
        "      #keras.layers.Dense(250, activation='relu'),\n",
        "      #keras.layers.Dense(150, activation='relu'),\n",
        "      keras.layers.Dense(75, activation='relu'),\n",
        "      keras.layers.Dense(50, activation='relu'),\n",
        "      keras.layers.Dense(4, activation='sigmoid'),\n",
        "      keras.layers.Dense(4, activation='softmax')\n",
        "])\n",
        "nn.compile(optimizer='adam' , loss='mean_squared_error', \n",
        "           metrics=[\n",
        "            metrics.MeanSquaredError(),\n",
        "            metrics.CategoricalAccuracy(),\n",
        "           ])"
      ],
      "execution_count": null,
      "outputs": []
    },
    {
      "cell_type": "code",
      "metadata": {
        "colab": {
          "base_uri": "https://localhost:8080/"
        },
        "id": "79pSl44UTmr3",
        "outputId": "b47ddd9e-ba40-4c60-e56a-65af98ee66a2"
      },
      "source": [
        "history = nn.fit(\n",
        "    X_train,\n",
        "    y_train,\n",
        "    batch_size=64,\n",
        "    epochs=50,\n",
        "    # We pass some validation for\n",
        "    # monitoring validation loss and metrics\n",
        "    # at the end of each epoch\n",
        "    # validation_data=(x_val, y_val),\n",
        ")"
      ],
      "execution_count": null,
      "outputs": [
        {
          "output_type": "stream",
          "text": [
            "Epoch 1/50\n",
            "190/190 [==============================] - 1s 2ms/step - loss: 0.0574 - mean_squared_error: 0.0574 - categorical_accuracy: 0.0116\n",
            "Epoch 2/50\n",
            "190/190 [==============================] - 0s 2ms/step - loss: 0.0531 - mean_squared_error: 0.0531 - categorical_accuracy: 0.1285\n",
            "Epoch 3/50\n",
            "190/190 [==============================] - 0s 2ms/step - loss: 0.0556 - mean_squared_error: 0.0556 - categorical_accuracy: 0.1037\n",
            "Epoch 4/50\n",
            "190/190 [==============================] - 0s 2ms/step - loss: 0.0551 - mean_squared_error: 0.0551 - categorical_accuracy: 0.1291\n",
            "Epoch 5/50\n",
            "190/190 [==============================] - 0s 2ms/step - loss: 0.0568 - mean_squared_error: 0.0568 - categorical_accuracy: 0.1468\n",
            "Epoch 6/50\n",
            "190/190 [==============================] - 0s 2ms/step - loss: 0.0586 - mean_squared_error: 0.0586 - categorical_accuracy: 0.1635\n",
            "Epoch 7/50\n",
            "190/190 [==============================] - 0s 2ms/step - loss: 0.0560 - mean_squared_error: 0.0560 - categorical_accuracy: 0.1901\n",
            "Epoch 8/50\n",
            "190/190 [==============================] - 0s 2ms/step - loss: 0.0556 - mean_squared_error: 0.0556 - categorical_accuracy: 0.2552\n",
            "Epoch 9/50\n",
            "190/190 [==============================] - 0s 2ms/step - loss: 0.0559 - mean_squared_error: 0.0559 - categorical_accuracy: 0.2815\n",
            "Epoch 10/50\n",
            "190/190 [==============================] - 0s 2ms/step - loss: 0.0569 - mean_squared_error: 0.0569 - categorical_accuracy: 0.3189\n",
            "Epoch 11/50\n",
            "190/190 [==============================] - 0s 2ms/step - loss: 0.0565 - mean_squared_error: 0.0565 - categorical_accuracy: 0.3540\n",
            "Epoch 12/50\n",
            "190/190 [==============================] - 0s 2ms/step - loss: 0.0557 - mean_squared_error: 0.0557 - categorical_accuracy: 0.3195\n",
            "Epoch 13/50\n",
            "190/190 [==============================] - 0s 2ms/step - loss: 0.0565 - mean_squared_error: 0.0565 - categorical_accuracy: 0.3507\n",
            "Epoch 14/50\n",
            "190/190 [==============================] - 0s 2ms/step - loss: 0.0561 - mean_squared_error: 0.0561 - categorical_accuracy: 0.3562\n",
            "Epoch 15/50\n",
            "190/190 [==============================] - 0s 2ms/step - loss: 0.0563 - mean_squared_error: 0.0563 - categorical_accuracy: 0.3651\n",
            "Epoch 16/50\n",
            "190/190 [==============================] - 0s 2ms/step - loss: 0.0576 - mean_squared_error: 0.0576 - categorical_accuracy: 0.3321\n",
            "Epoch 17/50\n",
            "190/190 [==============================] - 0s 2ms/step - loss: 0.0552 - mean_squared_error: 0.0552 - categorical_accuracy: 0.3129\n",
            "Epoch 18/50\n",
            "190/190 [==============================] - 0s 2ms/step - loss: 0.0536 - mean_squared_error: 0.0536 - categorical_accuracy: 0.2905\n",
            "Epoch 19/50\n",
            "190/190 [==============================] - 0s 2ms/step - loss: 0.0569 - mean_squared_error: 0.0569 - categorical_accuracy: 0.2950\n",
            "Epoch 20/50\n",
            "190/190 [==============================] - 0s 2ms/step - loss: 0.0565 - mean_squared_error: 0.0565 - categorical_accuracy: 0.2868\n",
            "Epoch 21/50\n",
            "190/190 [==============================] - 0s 2ms/step - loss: 0.0573 - mean_squared_error: 0.0573 - categorical_accuracy: 0.2741\n",
            "Epoch 22/50\n",
            "190/190 [==============================] - 0s 2ms/step - loss: 0.0569 - mean_squared_error: 0.0569 - categorical_accuracy: 0.2947\n",
            "Epoch 23/50\n",
            "190/190 [==============================] - 0s 2ms/step - loss: 0.0560 - mean_squared_error: 0.0560 - categorical_accuracy: 0.2912\n",
            "Epoch 24/50\n",
            "190/190 [==============================] - 0s 2ms/step - loss: 0.0546 - mean_squared_error: 0.0546 - categorical_accuracy: 0.3015\n",
            "Epoch 25/50\n",
            "190/190 [==============================] - 0s 2ms/step - loss: 0.0551 - mean_squared_error: 0.0551 - categorical_accuracy: 0.2695\n",
            "Epoch 26/50\n",
            "190/190 [==============================] - 0s 2ms/step - loss: 0.0554 - mean_squared_error: 0.0554 - categorical_accuracy: 0.3167\n",
            "Epoch 27/50\n",
            "190/190 [==============================] - 0s 2ms/step - loss: 0.0569 - mean_squared_error: 0.0569 - categorical_accuracy: 0.2694\n",
            "Epoch 28/50\n",
            "190/190 [==============================] - 0s 2ms/step - loss: 0.0559 - mean_squared_error: 0.0559 - categorical_accuracy: 0.2802\n",
            "Epoch 29/50\n",
            "190/190 [==============================] - 0s 2ms/step - loss: 0.0550 - mean_squared_error: 0.0550 - categorical_accuracy: 0.2608\n",
            "Epoch 30/50\n",
            "190/190 [==============================] - 0s 2ms/step - loss: 0.0560 - mean_squared_error: 0.0560 - categorical_accuracy: 0.3002\n",
            "Epoch 31/50\n",
            "190/190 [==============================] - 0s 2ms/step - loss: 0.0552 - mean_squared_error: 0.0552 - categorical_accuracy: 0.2898\n",
            "Epoch 32/50\n",
            "190/190 [==============================] - 0s 2ms/step - loss: 0.0558 - mean_squared_error: 0.0558 - categorical_accuracy: 0.2707\n",
            "Epoch 33/50\n",
            "190/190 [==============================] - 0s 2ms/step - loss: 0.0567 - mean_squared_error: 0.0567 - categorical_accuracy: 0.2944\n",
            "Epoch 34/50\n",
            "190/190 [==============================] - 0s 2ms/step - loss: 0.0555 - mean_squared_error: 0.0555 - categorical_accuracy: 0.2698\n",
            "Epoch 35/50\n",
            "190/190 [==============================] - 0s 2ms/step - loss: 0.0541 - mean_squared_error: 0.0541 - categorical_accuracy: 0.2747\n",
            "Epoch 36/50\n",
            "190/190 [==============================] - 0s 2ms/step - loss: 0.0546 - mean_squared_error: 0.0546 - categorical_accuracy: 0.3136\n",
            "Epoch 37/50\n",
            "190/190 [==============================] - 0s 2ms/step - loss: 0.0549 - mean_squared_error: 0.0549 - categorical_accuracy: 0.2637\n",
            "Epoch 38/50\n",
            "190/190 [==============================] - 0s 2ms/step - loss: 0.0562 - mean_squared_error: 0.0562 - categorical_accuracy: 0.2611\n",
            "Epoch 39/50\n",
            "190/190 [==============================] - 0s 2ms/step - loss: 0.0574 - mean_squared_error: 0.0574 - categorical_accuracy: 0.2714\n",
            "Epoch 40/50\n",
            "190/190 [==============================] - 0s 2ms/step - loss: 0.0559 - mean_squared_error: 0.0559 - categorical_accuracy: 0.2889\n",
            "Epoch 41/50\n",
            "190/190 [==============================] - 0s 2ms/step - loss: 0.0564 - mean_squared_error: 0.0564 - categorical_accuracy: 0.2859\n",
            "Epoch 42/50\n",
            "190/190 [==============================] - 0s 2ms/step - loss: 0.0549 - mean_squared_error: 0.0549 - categorical_accuracy: 0.2845\n",
            "Epoch 43/50\n",
            "190/190 [==============================] - 0s 2ms/step - loss: 0.0546 - mean_squared_error: 0.0546 - categorical_accuracy: 0.2436\n",
            "Epoch 44/50\n",
            "190/190 [==============================] - 0s 2ms/step - loss: 0.0559 - mean_squared_error: 0.0559 - categorical_accuracy: 0.3046\n",
            "Epoch 45/50\n",
            "190/190 [==============================] - 0s 2ms/step - loss: 0.0544 - mean_squared_error: 0.0544 - categorical_accuracy: 0.2729\n",
            "Epoch 46/50\n",
            "190/190 [==============================] - 0s 2ms/step - loss: 0.0558 - mean_squared_error: 0.0558 - categorical_accuracy: 0.2095\n",
            "Epoch 47/50\n",
            "190/190 [==============================] - 0s 2ms/step - loss: 0.0565 - mean_squared_error: 0.0565 - categorical_accuracy: 0.2447\n",
            "Epoch 48/50\n",
            "190/190 [==============================] - 0s 2ms/step - loss: 0.0558 - mean_squared_error: 0.0558 - categorical_accuracy: 0.2660\n",
            "Epoch 49/50\n",
            "190/190 [==============================] - 0s 2ms/step - loss: 0.0557 - mean_squared_error: 0.0557 - categorical_accuracy: 0.2594\n",
            "Epoch 50/50\n",
            "190/190 [==============================] - 0s 2ms/step - loss: 0.0549 - mean_squared_error: 0.0549 - categorical_accuracy: 0.2241\n"
          ],
          "name": "stdout"
        }
      ]
    },
    {
      "cell_type": "code",
      "metadata": {
        "colab": {
          "base_uri": "https://localhost:8080/"
        },
        "id": "70lcisTYTz3X",
        "outputId": "02c2e85e-983a-48a7-88df-4fb944513352"
      },
      "source": [
        "previsoes = nn.predict(X_test)\n",
        "previsoes"
      ],
      "execution_count": null,
      "outputs": [
        {
          "output_type": "execute_result",
          "data": {
            "text/plain": [
              "array([[0.24998194, 0.25001714, 0.2500077 , 0.24999323],\n",
              "       [0.2499774 , 0.25001818, 0.24999493, 0.25000945],\n",
              "       [0.24997453, 0.25002223, 0.24999796, 0.2500053 ],\n",
              "       ...,\n",
              "       [0.2499889 , 0.24999866, 0.2500238 , 0.24998869],\n",
              "       [0.24997668, 0.2500266 , 0.249992  , 0.25000474],\n",
              "       [0.24995925, 0.25004745, 0.24996622, 0.25002703]], dtype=float32)"
            ]
          },
          "metadata": {
            "tags": []
          },
          "execution_count": 116
        }
      ]
    },
    {
      "cell_type": "code",
      "metadata": {
        "id": "Wi-l2PYfUMWn",
        "colab": {
          "base_uri": "https://localhost:8080/"
        },
        "outputId": "dfb9afd8-cf18-4d8d-8aa6-5f084f561fd0"
      },
      "source": [
        "kmeans = KMeans(n_clusters = 3, init='random')\n",
        "kmeans.fit(df_t)"
      ],
      "execution_count": null,
      "outputs": [
        {
          "output_type": "execute_result",
          "data": {
            "text/plain": [
              "KMeans(algorithm='auto', copy_x=True, init='random', max_iter=300, n_clusters=3,\n",
              "       n_init=10, n_jobs=None, precompute_distances='auto', random_state=None,\n",
              "       tol=0.0001, verbose=0)"
            ]
          },
          "metadata": {
            "tags": []
          },
          "execution_count": 117
        }
      ]
    },
    {
      "cell_type": "code",
      "metadata": {
        "colab": {
          "base_uri": "https://localhost:8080/"
        },
        "id": "pCw2WStUkF2f",
        "outputId": "332eb900-c21e-4fd0-fdbe-439cb2fed3db"
      },
      "source": [
        "kmeans.cluster_centers_"
      ],
      "execution_count": null,
      "outputs": [
        {
          "output_type": "execute_result",
          "data": {
            "text/plain": [
              "array([[ 6.31113916e-04,  6.31113916e-04,  3.47112654e-03,\n",
              "         2.84001262e-03,  6.31113916e-04, -1.28071382e-18,\n",
              "         4.85957715e-02,  1.57778479e-03,  1.89334175e-03,\n",
              "        -1.28071382e-18, -2.50450702e-17, -2.78639958e-17,\n",
              "        -1.28071382e-18,  4.10224045e-03,  2.84001262e-03,\n",
              "         4.41779741e-03, -2.56142763e-18,  3.15556958e-04,\n",
              "         2.52445566e-03,  2.20889871e-03,  3.15556958e-04,\n",
              "         3.15556958e-04,  9.46670874e-04,  7.53550016e-01,\n",
              "         2.84001262e-03,  3.15556958e-04,  1.57778479e-03,\n",
              "         1.07289366e-02,  6.31113916e-03,  6.03900610e-17,\n",
              "         1.26222783e-03,  9.46670874e-04,  3.15556958e-04,\n",
              "         1.43893973e-01,  3.15556958e-04,  3.15556958e-04,\n",
              "         6.31113916e-04,  9.46670874e-04, -2.56142763e-18,\n",
              "         6.31113916e-04,  4.10224045e-03,  9.46670874e-04,\n",
              "         3.15556958e-04,  3.15556958e-04, -1.28071382e-18,\n",
              "         3.15556958e-04, -1.02457105e-17, -1.28071382e-18,\n",
              "         3.15556958e-04,  3.15556958e-03,  6.31113916e-04,\n",
              "         4.96686652e-01, -1.28071382e-18, -1.39319979e-17,\n",
              "        -1.28071382e-18,  1.57778479e-03,  3.15556958e-04,\n",
              "         3.15556958e-04,  2.20889871e-03,  1.57778479e-03,\n",
              "        -5.12285526e-18,  3.15556958e-04, -1.28071382e-18,\n",
              "         9.46670874e-04,  3.15556958e-04,  3.15556958e-04,\n",
              "        -2.56142763e-18,  1.26222783e-03,  3.15556958e-04,\n",
              "         3.78668350e-03, -2.56142763e-18, -1.39319979e-17,\n",
              "        -2.56142763e-18,  6.31113916e-04,  5.04891133e-03,\n",
              "        -1.28071382e-18, -1.39319979e-17,  1.26222783e-03,\n",
              "         3.15556958e-04,  9.46670874e-04, -2.56142763e-18,\n",
              "        -1.28071382e-18, -1.28071382e-18, -1.39319979e-17,\n",
              "        -1.28071382e-18, -2.56142763e-18,  6.31113916e-04,\n",
              "         3.78668350e-03, -5.57279917e-17,  6.31113916e-04,\n",
              "         2.84001262e-03, -1.28071382e-18,  2.52445566e-03,\n",
              "        -1.28071382e-18,  3.15556958e-04, -1.28071382e-18,\n",
              "         3.15556958e-04, -1.28071382e-18,  3.15556958e-04,\n",
              "        -2.56142763e-18,  6.31113916e-04,  3.15556958e-04,\n",
              "         4.10224045e-03, -2.78639958e-17, -2.56142763e-18,\n",
              "        -1.28071382e-18, -1.28071382e-18, -1.28071382e-18,\n",
              "         6.31113916e-04,  3.15556958e-04, -1.28071382e-18,\n",
              "        -5.12285526e-18,  1.57778479e-03, -2.56142763e-18,\n",
              "         3.15556958e-04,  3.15556958e-04,  3.15556958e-04,\n",
              "         6.31113916e-04,  6.31113916e-04,  6.31113916e-04,\n",
              "         6.62669612e-03, -1.39319979e-17, -1.28071382e-18,\n",
              "        -1.28071382e-18,  1.57778479e-03,  6.31113916e-04,\n",
              "        -1.39319979e-17,  3.15556958e-04,  9.46670874e-04,\n",
              "         6.31113916e-04, -1.28071382e-18,  3.15556958e-04,\n",
              "         3.15556958e-04, -1.28071382e-18, -1.28071382e-18,\n",
              "         3.47112654e-03,  3.78668350e-03, -1.28071382e-18,\n",
              "         3.15556958e-04,  9.46670874e-04,  6.31113916e-04,\n",
              "        -1.28071382e-18, -1.28071382e-18,  3.15556958e-04,\n",
              "        -1.28071382e-18, -1.28071382e-18,  3.15556958e-04,\n",
              "         3.15556958e-04, -2.56142763e-18, -2.56142763e-18,\n",
              "         4.10224045e-03,  2.05112023e-02,  3.15556958e-04,\n",
              "        -2.56142763e-18, -1.39319979e-17,  6.31113916e-04,\n",
              "        -2.56142763e-18,  4.00126223e-01,  8.10981382e-01,\n",
              "         1.44328993e-14,  1.82391922e-01,  6.62669612e-03,\n",
              "         4.10644788e-01,  1.74487067e-03,  9.52920570e-03,\n",
              "         1.74487067e-03,  7.23046177e-01],\n",
              "       [-1.21837219e-17, -1.21837219e-17, -5.80048162e-17,\n",
              "         6.37510877e-17, -1.21837219e-17, -6.09186096e-18,\n",
              "         1.19622728e-02,  1.10588622e-17, -4.38559779e-17,\n",
              "         1.15021854e-04,  4.60087417e-04,  5.75109271e-04,\n",
              "         1.15021854e-04,  8.99887803e-17,  6.37510877e-17,\n",
              "         1.95537152e-03,  2.30043708e-04, -6.09186096e-18,\n",
              "        -4.87348877e-17,  5.74085050e-17, -6.09186096e-18,\n",
              "         3.45065562e-04, -2.19279889e-17,  9.73659995e-01,\n",
              "         6.37510877e-17, -6.09186096e-18,  1.10588622e-17,\n",
              "         9.43179204e-03,  4.42354486e-17,  1.15021854e-03,\n",
              "        -2.43674438e-17, -2.19279889e-17, -6.09186096e-18,\n",
              "        -1.85962357e-15, -6.09186096e-18, -6.09186096e-18,\n",
              "         1.15021854e-04,  4.60087417e-04,  2.30043708e-04,\n",
              "         3.45065562e-04,  4.14078675e-03,  9.20174833e-04,\n",
              "         2.30043708e-04,  9.20174833e-04,  1.15021854e-04,\n",
              "        -6.09186096e-18,  9.20174833e-04,  1.15021854e-04,\n",
              "         3.45065562e-04,  2.41545894e-03,  3.45065562e-04,\n",
              "         8.96825397e-01,  1.15021854e-04,  3.45065562e-04,\n",
              "         1.15021854e-04,  1.72532781e-03,  6.90131125e-04,\n",
              "        -6.09186096e-18,  1.26524040e-03,  2.18541523e-03,\n",
              "         4.60087417e-04, -6.09186096e-18,  1.15021854e-04,\n",
              "         1.03519669e-03, -6.09186096e-18,  3.45065562e-04,\n",
              "         2.30043708e-04,  6.90131125e-04,  2.30043708e-04,\n",
              "         4.71589602e-03,  2.30043708e-04,  3.45065562e-04,\n",
              "         2.30043708e-04,  5.75109271e-04,  4.48585231e-03,\n",
              "         1.15021854e-04,  3.45065562e-04,  3.10559006e-03,\n",
              "         2.30043708e-04,  3.45065562e-04,  2.30043708e-04,\n",
              "         1.15021854e-04,  1.15021854e-04,  3.45065562e-04,\n",
              "         1.15021854e-04,  2.30043708e-04,  9.20174833e-04,\n",
              "         2.07039337e-03,  1.38026225e-03,  2.30043708e-04,\n",
              "         3.33563377e-03,  1.15021854e-04,  2.30043708e-03,\n",
              "         1.15021854e-04,  4.60087417e-04,  1.15021854e-04,\n",
              "         1.15021854e-04,  1.15021854e-04,  2.30043708e-04,\n",
              "         2.30043708e-04,  8.05152979e-04, -6.09186096e-18,\n",
              "         2.99056821e-03,  6.90131125e-04,  2.30043708e-04,\n",
              "         1.15021854e-04,  1.15021854e-04,  1.15021854e-04,\n",
              "         5.75109271e-04,  3.45065562e-04,  1.15021854e-04,\n",
              "         4.60087417e-04,  2.30043708e-04,  2.30043708e-04,\n",
              "        -6.09186096e-18,  3.45065562e-04,  1.15021854e-04,\n",
              "         1.38026225e-03,  4.60087417e-04,  5.75109271e-04,\n",
              "         6.90131125e-03,  3.45065562e-04,  1.15021854e-04,\n",
              "         1.15021854e-04,  1.15021854e-03,  8.05152979e-04,\n",
              "         3.45065562e-04,  5.75109271e-04,  2.30043708e-04,\n",
              "        -1.21837219e-17,  1.15021854e-04, -6.09186096e-18,\n",
              "        -6.09186096e-18,  1.15021854e-04,  1.15021854e-04,\n",
              "         3.79572119e-03,  9.20174833e-04,  1.15021854e-04,\n",
              "         3.45065562e-04,  6.90131125e-04, -1.21837219e-17,\n",
              "         1.15021854e-04,  1.15021854e-04,  3.45065562e-04,\n",
              "         1.15021854e-04,  1.15021854e-04,  8.05152979e-04,\n",
              "         1.15021854e-04,  2.30043708e-04,  2.30043708e-04,\n",
              "         3.33563377e-03,  2.00138026e-02,  1.15021854e-03,\n",
              "         2.30043708e-04,  3.45065562e-04,  2.30043708e-04,\n",
              "         2.30043708e-04, -5.61772850e-14, -1.26287869e-14,\n",
              "         8.90384173e-01, -1.04083409e-15,  1.09615827e-01,\n",
              "         4.06563914e-01,  1.02681541e-02,  2.46476219e-02,\n",
              "         1.02681541e-02,  2.96794724e-01],\n",
              "       [-8.94466792e-18, -8.94466792e-18,  2.82976767e-17,\n",
              "         1.76724954e-17, -8.94466792e-18,  1.82615047e-04,\n",
              "         1.38787436e-02, -2.77013655e-17, -3.84891771e-17,\n",
              "        -4.47233396e-18,  9.13075237e-04,  1.82615047e-04,\n",
              "        -4.47233396e-18,  7.99057001e-17,  1.76724954e-17,\n",
              "         2.55661066e-03, -8.94466792e-18, -4.47233396e-18,\n",
              "        -3.57786717e-17, -2.92734587e-18, -4.47233396e-18,\n",
              "         1.82615047e-04, -1.92445886e-17,  9.74433893e-01,\n",
              "         1.76724954e-17, -4.47233396e-18, -2.77013655e-17,\n",
              "         7.12198685e-03, -1.10805462e-16,  5.47845142e-04,\n",
              "        -1.78893358e-17, -1.92445886e-17, -4.47233396e-18,\n",
              "        -1.62370117e-15, -4.47233396e-18, -4.47233396e-18,\n",
              "        -1.92445886e-17, -2.92734587e-18, -8.94466792e-18,\n",
              "        -2.77013655e-17, -1.83013327e-16,  2.82976767e-17,\n",
              "        -1.92445886e-17,  1.76724954e-17, -4.47233396e-18,\n",
              "        -4.47233396e-18, -3.57786717e-17, -4.47233396e-18,\n",
              "        -1.78893358e-17,  5.09575021e-17, -2.77013655e-17,\n",
              "        -3.63042929e-14, -4.47233396e-18, -1.92445886e-17,\n",
              "        -4.47233396e-18, -1.10805462e-16, -2.92734587e-18,\n",
              "        -4.47233396e-18,  3.53449908e-17, -1.53956708e-16,\n",
              "        -1.78893358e-17, -4.47233396e-18, -4.47233396e-18,\n",
              "        -7.69783542e-17, -4.47233396e-18, -1.78893358e-17,\n",
              "        -8.94466792e-18, -5.54027310e-17, -1.92445886e-17,\n",
              "         2.18575158e-16, -8.94466792e-18, -1.92445886e-17,\n",
              "        -8.94466792e-18, -2.92734587e-18, -3.23092247e-16,\n",
              "        -4.47233396e-18, -1.92445886e-17,  5.09575021e-17,\n",
              "        -1.92445886e-17, -3.84891771e-17, -8.94466792e-18,\n",
              "        -4.47233396e-18, -4.47233396e-18, -1.92445886e-17,\n",
              "        -4.47233396e-18, -8.94466792e-18, -5.54027310e-17,\n",
              "        -3.68628739e-18, -7.69783542e-17, -1.78893358e-17,\n",
              "        -1.97324795e-16, -4.47233396e-18, -1.17093835e-17,\n",
              "        -4.47233396e-18, -2.77013655e-17, -4.47233396e-18,\n",
              "        -8.94466792e-18, -4.47233396e-18, -1.92445886e-17,\n",
              "        -8.94466792e-18,  1.76724954e-17, -4.47233396e-18,\n",
              "        -1.07552856e-16, -3.84891771e-17, -8.94466792e-18,\n",
              "        -4.47233396e-18, -4.47233396e-18, -4.47233396e-18,\n",
              "        -2.92734587e-18, -1.78893358e-17, -4.47233396e-18,\n",
              "        -1.78893358e-17, -2.92734587e-18, -8.94466792e-18,\n",
              "        -4.47233396e-18, -1.78893358e-17, -8.94466792e-18,\n",
              "        -5.85469173e-18, -3.84891771e-17, -2.92734587e-18,\n",
              "         3.80771803e-16, -1.92445886e-17, -4.47233396e-18,\n",
              "        -4.47233396e-18, -1.84314369e-18,  1.76724954e-17,\n",
              "        -1.92445886e-17, -3.84891771e-17, -2.77013655e-17,\n",
              "        -8.94466792e-18, -4.47233396e-18, -4.47233396e-18,\n",
              "        -4.47233396e-18, -4.47233396e-18, -4.47233396e-18,\n",
              "         1.13190707e-16, -1.10805462e-16, -4.47233396e-18,\n",
              "        -1.78893358e-17,  1.76724954e-17, -8.94466792e-18,\n",
              "        -4.47233396e-18, -4.47233396e-18, -1.78893358e-17,\n",
              "        -4.47233396e-18, -4.47233396e-18, -3.57786717e-17,\n",
              "        -8.94466792e-18, -8.94466792e-18, -8.94466792e-18,\n",
              "         6.54858112e-17, -4.85722573e-16,  2.82976767e-17,\n",
              "        -8.94466792e-18, -1.92445886e-17, -1.78893358e-17,\n",
              "        -8.94466792e-18,  1.00000000e+00, -1.00752739e-14,\n",
              "         9.00657414e-01, -9.92261828e-16,  9.93425858e-02,\n",
              "         3.16695073e-01,  1.15338212e-04,  5.21234010e-03,\n",
              "         1.15338212e-04,  3.00219138e-01]])"
            ]
          },
          "metadata": {
            "tags": []
          },
          "execution_count": 118
        }
      ]
    },
    {
      "cell_type": "code",
      "metadata": {
        "colab": {
          "base_uri": "https://localhost:8080/"
        },
        "id": "2y3_hzrbkF2g",
        "outputId": "c3699705-104c-48ae-ca29-e5898e58975e"
      },
      "source": [
        "distance = kmeans.fit_transform(df_t)\n",
        "distance"
      ],
      "execution_count": null,
      "outputs": [
        {
          "output_type": "execute_result",
          "data": {
            "text/plain": [
              "array([[1.46454079, 2.02828615, 1.34602271],\n",
              "       [1.54106335, 1.41521504, 0.21197957],\n",
              "       [1.47624311, 2.03618646, 1.34520282],\n",
              "       ...,\n",
              "       [1.37052819, 0.18661517, 1.33871068],\n",
              "       [1.28388007, 1.46489864, 1.88652777],\n",
              "       [1.32892234, 2.036175  , 1.93797308]])"
            ]
          },
          "metadata": {
            "tags": []
          },
          "execution_count": 120
        }
      ]
    },
    {
      "cell_type": "code",
      "metadata": {
        "colab": {
          "base_uri": "https://localhost:8080/"
        },
        "id": "CUF71CYkqVBD",
        "outputId": "9d958557-05c4-43bb-9028-2765a35f0978"
      },
      "source": [
        "print(X_train.shape)\n",
        "print(X_test.shape)"
      ],
      "execution_count": null,
      "outputs": [
        {
          "output_type": "stream",
          "text": [
            "(12137, 167)\n",
            "(5202, 167)\n"
          ],
          "name": "stdout"
        }
      ]
    },
    {
      "cell_type": "code",
      "metadata": {
        "id": "F5HIHs34tpAz"
      },
      "source": [
        "# Split dataset into training set and test set\n",
        "X_train, X_test, y_train, y_test = train_test_split(X,y, test_size=0.2, random_state=4)"
      ],
      "execution_count": null,
      "outputs": []
    },
    {
      "cell_type": "code",
      "metadata": {
        "colab": {
          "base_uri": "https://localhost:8080/"
        },
        "id": "-52IdPskuFcq",
        "outputId": "18a81388-e39d-4494-d642-760999cb0b65"
      },
      "source": [
        "y.shape[0]"
      ],
      "execution_count": null,
      "outputs": [
        {
          "output_type": "execute_result",
          "data": {
            "text/plain": [
              "17339"
            ]
          },
          "metadata": {
            "tags": []
          },
          "execution_count": 141
        }
      ]
    },
    {
      "cell_type": "code",
      "metadata": {
        "id": "eP5rnq5fnNsC"
      },
      "source": [
        "k_range = range(1,y.shape[0])\n",
        "scores = {}\n",
        "scores_list = []"
      ],
      "execution_count": null,
      "outputs": []
    },
    {
      "cell_type": "code",
      "metadata": {
        "colab": {
          "base_uri": "https://localhost:8080/",
          "height": 398
        },
        "id": "nrly9VthpsFT",
        "outputId": "749e0ee7-d422-40b5-c193-93e2a5666218"
      },
      "source": [
        "for k in k_range:\n",
        "    knn = KNeighborsClassifier(n_neighbors = k)\n",
        "    knn.fit(X_train, y_train)\n",
        "    y_pred = knn.predict(X_test)\n",
        "    scores[k] = metrics.accuracy_score(Y_test, y_pred)\n",
        "    scores_list.append(scores[k])\n"
      ],
      "execution_count": null,
      "outputs": [
        {
          "output_type": "error",
          "ename": "ValueError",
          "evalue": "ignored",
          "traceback": [
            "\u001b[0;31m---------------------------------------------------------------------------\u001b[0m",
            "\u001b[0;31mValueError\u001b[0m                                Traceback (most recent call last)",
            "\u001b[0;32m<ipython-input-144-d25ed78eaae0>\u001b[0m in \u001b[0;36m<module>\u001b[0;34m()\u001b[0m\n\u001b[1;32m      1\u001b[0m \u001b[0;32mfor\u001b[0m \u001b[0mk\u001b[0m \u001b[0;32min\u001b[0m \u001b[0mk_range\u001b[0m\u001b[0;34m:\u001b[0m\u001b[0;34m\u001b[0m\u001b[0;34m\u001b[0m\u001b[0m\n\u001b[1;32m      2\u001b[0m     \u001b[0mknn\u001b[0m \u001b[0;34m=\u001b[0m \u001b[0mKNeighborsClassifier\u001b[0m\u001b[0;34m(\u001b[0m\u001b[0mn_neighbors\u001b[0m \u001b[0;34m=\u001b[0m \u001b[0mk\u001b[0m\u001b[0;34m)\u001b[0m\u001b[0;34m\u001b[0m\u001b[0;34m\u001b[0m\u001b[0m\n\u001b[0;32m----> 3\u001b[0;31m     \u001b[0mknn\u001b[0m\u001b[0;34m.\u001b[0m\u001b[0mfit\u001b[0m\u001b[0;34m(\u001b[0m\u001b[0mX_train\u001b[0m\u001b[0;34m,\u001b[0m \u001b[0my_train\u001b[0m\u001b[0;34m)\u001b[0m\u001b[0;34m\u001b[0m\u001b[0;34m\u001b[0m\u001b[0m\n\u001b[0m\u001b[1;32m      4\u001b[0m     \u001b[0my_pred\u001b[0m \u001b[0;34m=\u001b[0m \u001b[0mknn\u001b[0m\u001b[0;34m.\u001b[0m\u001b[0mpredict\u001b[0m\u001b[0;34m(\u001b[0m\u001b[0mX_test\u001b[0m\u001b[0;34m)\u001b[0m\u001b[0;34m\u001b[0m\u001b[0;34m\u001b[0m\u001b[0m\n\u001b[1;32m      5\u001b[0m     \u001b[0mscores\u001b[0m\u001b[0;34m[\u001b[0m\u001b[0mk\u001b[0m\u001b[0;34m]\u001b[0m \u001b[0;34m=\u001b[0m \u001b[0mmetrics\u001b[0m\u001b[0;34m.\u001b[0m\u001b[0maccuracy_score\u001b[0m\u001b[0;34m(\u001b[0m\u001b[0mY_test\u001b[0m\u001b[0;34m,\u001b[0m \u001b[0my_pred\u001b[0m\u001b[0;34m)\u001b[0m\u001b[0;34m\u001b[0m\u001b[0;34m\u001b[0m\u001b[0m\n",
            "\u001b[0;32m/usr/local/lib/python3.7/dist-packages/sklearn/neighbors/_base.py\u001b[0m in \u001b[0;36mfit\u001b[0;34m(self, X, y)\u001b[0m\n\u001b[1;32m   1138\u001b[0m             \u001b[0mself\u001b[0m\u001b[0;34m.\u001b[0m\u001b[0moutputs_2d_\u001b[0m \u001b[0;34m=\u001b[0m \u001b[0;32mTrue\u001b[0m\u001b[0;34m\u001b[0m\u001b[0;34m\u001b[0m\u001b[0m\n\u001b[1;32m   1139\u001b[0m \u001b[0;34m\u001b[0m\u001b[0m\n\u001b[0;32m-> 1140\u001b[0;31m         \u001b[0mcheck_classification_targets\u001b[0m\u001b[0;34m(\u001b[0m\u001b[0my\u001b[0m\u001b[0;34m)\u001b[0m\u001b[0;34m\u001b[0m\u001b[0;34m\u001b[0m\u001b[0m\n\u001b[0m\u001b[1;32m   1141\u001b[0m         \u001b[0mself\u001b[0m\u001b[0;34m.\u001b[0m\u001b[0mclasses_\u001b[0m \u001b[0;34m=\u001b[0m \u001b[0;34m[\u001b[0m\u001b[0;34m]\u001b[0m\u001b[0;34m\u001b[0m\u001b[0;34m\u001b[0m\u001b[0m\n\u001b[1;32m   1142\u001b[0m         \u001b[0mself\u001b[0m\u001b[0;34m.\u001b[0m\u001b[0m_y\u001b[0m \u001b[0;34m=\u001b[0m \u001b[0mnp\u001b[0m\u001b[0;34m.\u001b[0m\u001b[0mempty\u001b[0m\u001b[0;34m(\u001b[0m\u001b[0my\u001b[0m\u001b[0;34m.\u001b[0m\u001b[0mshape\u001b[0m\u001b[0;34m,\u001b[0m \u001b[0mdtype\u001b[0m\u001b[0;34m=\u001b[0m\u001b[0mnp\u001b[0m\u001b[0;34m.\u001b[0m\u001b[0mint\u001b[0m\u001b[0;34m)\u001b[0m\u001b[0;34m\u001b[0m\u001b[0;34m\u001b[0m\u001b[0m\n",
            "\u001b[0;32m/usr/local/lib/python3.7/dist-packages/sklearn/utils/multiclass.py\u001b[0m in \u001b[0;36mcheck_classification_targets\u001b[0;34m(y)\u001b[0m\n\u001b[1;32m    167\u001b[0m     if y_type not in ['binary', 'multiclass', 'multiclass-multioutput',\n\u001b[1;32m    168\u001b[0m                       'multilabel-indicator', 'multilabel-sequences']:\n\u001b[0;32m--> 169\u001b[0;31m         \u001b[0;32mraise\u001b[0m \u001b[0mValueError\u001b[0m\u001b[0;34m(\u001b[0m\u001b[0;34m\"Unknown label type: %r\"\u001b[0m \u001b[0;34m%\u001b[0m \u001b[0my_type\u001b[0m\u001b[0;34m)\u001b[0m\u001b[0;34m\u001b[0m\u001b[0;34m\u001b[0m\u001b[0m\n\u001b[0m\u001b[1;32m    170\u001b[0m \u001b[0;34m\u001b[0m\u001b[0m\n\u001b[1;32m    171\u001b[0m \u001b[0;34m\u001b[0m\u001b[0m\n",
            "\u001b[0;31mValueError\u001b[0m: Unknown label type: 'continuous'"
          ]
        }
      ]
    },
    {
      "cell_type": "code",
      "metadata": {
        "colab": {
          "base_uri": "https://localhost:8080/",
          "height": 653
        },
        "id": "3lgXif6Fpm30",
        "outputId": "2ea20b26-5248-4d91-a0a5-29adf55eccaf"
      },
      "source": [
        ""
      ],
      "execution_count": null,
      "outputs": [
        {
          "output_type": "error",
          "ename": "ValueError",
          "evalue": "ignored",
          "traceback": [
            "\u001b[0;31m---------------------------------------------------------------------------\u001b[0m",
            "\u001b[0;31mValueError\u001b[0m                                Traceback (most recent call last)",
            "\u001b[0;32m<ipython-input-60-1c02320c6e3a>\u001b[0m in \u001b[0;36m<module>\u001b[0;34m()\u001b[0m\n\u001b[1;32m      2\u001b[0m \u001b[0;32mimport\u001b[0m \u001b[0mmatplotlib\u001b[0m\u001b[0;34m.\u001b[0m\u001b[0mpyplot\u001b[0m \u001b[0;32mas\u001b[0m \u001b[0mplt\u001b[0m\u001b[0;34m\u001b[0m\u001b[0;34m\u001b[0m\u001b[0m\n\u001b[1;32m      3\u001b[0m \u001b[0;34m\u001b[0m\u001b[0m\n\u001b[0;32m----> 4\u001b[0;31m \u001b[0mplt\u001b[0m\u001b[0;34m.\u001b[0m\u001b[0mplot\u001b[0m\u001b[0;34m(\u001b[0m\u001b[0mk_range\u001b[0m\u001b[0;34m,\u001b[0m \u001b[0mscores_list\u001b[0m\u001b[0;34m)\u001b[0m\u001b[0;34m\u001b[0m\u001b[0;34m\u001b[0m\u001b[0m\n\u001b[0m\u001b[1;32m      5\u001b[0m \u001b[0mplt\u001b[0m\u001b[0;34m.\u001b[0m\u001b[0mxlabel\u001b[0m\u001b[0;34m(\u001b[0m\u001b[0;34m\"Valor de K\"\u001b[0m\u001b[0;34m)\u001b[0m\u001b[0;34m\u001b[0m\u001b[0;34m\u001b[0m\u001b[0m\n\u001b[1;32m      6\u001b[0m \u001b[0mplt\u001b[0m\u001b[0;34m.\u001b[0m\u001b[0mylabel\u001b[0m\u001b[0;34m(\u001b[0m\u001b[0;34m\"Acurácia\"\u001b[0m\u001b[0;34m)\u001b[0m\u001b[0;34m\u001b[0m\u001b[0;34m\u001b[0m\u001b[0m\n",
            "\u001b[0;32m/usr/local/lib/python3.7/dist-packages/matplotlib/pyplot.py\u001b[0m in \u001b[0;36mplot\u001b[0;34m(scalex, scaley, data, *args, **kwargs)\u001b[0m\n\u001b[1;32m   2761\u001b[0m     return gca().plot(\n\u001b[1;32m   2762\u001b[0m         *args, scalex=scalex, scaley=scaley, **({\"data\": data} if data\n\u001b[0;32m-> 2763\u001b[0;31m         is not None else {}), **kwargs)\n\u001b[0m\u001b[1;32m   2764\u001b[0m \u001b[0;34m\u001b[0m\u001b[0m\n\u001b[1;32m   2765\u001b[0m \u001b[0;34m\u001b[0m\u001b[0m\n",
            "\u001b[0;32m/usr/local/lib/python3.7/dist-packages/matplotlib/axes/_axes.py\u001b[0m in \u001b[0;36mplot\u001b[0;34m(self, scalex, scaley, data, *args, **kwargs)\u001b[0m\n\u001b[1;32m   1645\u001b[0m         \"\"\"\n\u001b[1;32m   1646\u001b[0m         \u001b[0mkwargs\u001b[0m \u001b[0;34m=\u001b[0m \u001b[0mcbook\u001b[0m\u001b[0;34m.\u001b[0m\u001b[0mnormalize_kwargs\u001b[0m\u001b[0;34m(\u001b[0m\u001b[0mkwargs\u001b[0m\u001b[0;34m,\u001b[0m \u001b[0mmlines\u001b[0m\u001b[0;34m.\u001b[0m\u001b[0mLine2D\u001b[0m\u001b[0;34m)\u001b[0m\u001b[0;34m\u001b[0m\u001b[0;34m\u001b[0m\u001b[0m\n\u001b[0;32m-> 1647\u001b[0;31m         \u001b[0mlines\u001b[0m \u001b[0;34m=\u001b[0m \u001b[0;34m[\u001b[0m\u001b[0;34m*\u001b[0m\u001b[0mself\u001b[0m\u001b[0;34m.\u001b[0m\u001b[0m_get_lines\u001b[0m\u001b[0;34m(\u001b[0m\u001b[0;34m*\u001b[0m\u001b[0margs\u001b[0m\u001b[0;34m,\u001b[0m \u001b[0mdata\u001b[0m\u001b[0;34m=\u001b[0m\u001b[0mdata\u001b[0m\u001b[0;34m,\u001b[0m \u001b[0;34m**\u001b[0m\u001b[0mkwargs\u001b[0m\u001b[0;34m)\u001b[0m\u001b[0;34m]\u001b[0m\u001b[0;34m\u001b[0m\u001b[0;34m\u001b[0m\u001b[0m\n\u001b[0m\u001b[1;32m   1648\u001b[0m         \u001b[0;32mfor\u001b[0m \u001b[0mline\u001b[0m \u001b[0;32min\u001b[0m \u001b[0mlines\u001b[0m\u001b[0;34m:\u001b[0m\u001b[0;34m\u001b[0m\u001b[0;34m\u001b[0m\u001b[0m\n\u001b[1;32m   1649\u001b[0m             \u001b[0mself\u001b[0m\u001b[0;34m.\u001b[0m\u001b[0madd_line\u001b[0m\u001b[0;34m(\u001b[0m\u001b[0mline\u001b[0m\u001b[0;34m)\u001b[0m\u001b[0;34m\u001b[0m\u001b[0;34m\u001b[0m\u001b[0m\n",
            "\u001b[0;32m/usr/local/lib/python3.7/dist-packages/matplotlib/axes/_base.py\u001b[0m in \u001b[0;36m__call__\u001b[0;34m(self, *args, **kwargs)\u001b[0m\n\u001b[1;32m    214\u001b[0m                 \u001b[0mthis\u001b[0m \u001b[0;34m+=\u001b[0m \u001b[0margs\u001b[0m\u001b[0;34m[\u001b[0m\u001b[0;36m0\u001b[0m\u001b[0;34m]\u001b[0m\u001b[0;34m,\u001b[0m\u001b[0;34m\u001b[0m\u001b[0;34m\u001b[0m\u001b[0m\n\u001b[1;32m    215\u001b[0m                 \u001b[0margs\u001b[0m \u001b[0;34m=\u001b[0m \u001b[0margs\u001b[0m\u001b[0;34m[\u001b[0m\u001b[0;36m1\u001b[0m\u001b[0;34m:\u001b[0m\u001b[0;34m]\u001b[0m\u001b[0;34m\u001b[0m\u001b[0;34m\u001b[0m\u001b[0m\n\u001b[0;32m--> 216\u001b[0;31m             \u001b[0;32myield\u001b[0m \u001b[0;32mfrom\u001b[0m \u001b[0mself\u001b[0m\u001b[0;34m.\u001b[0m\u001b[0m_plot_args\u001b[0m\u001b[0;34m(\u001b[0m\u001b[0mthis\u001b[0m\u001b[0;34m,\u001b[0m \u001b[0mkwargs\u001b[0m\u001b[0;34m)\u001b[0m\u001b[0;34m\u001b[0m\u001b[0;34m\u001b[0m\u001b[0m\n\u001b[0m\u001b[1;32m    217\u001b[0m \u001b[0;34m\u001b[0m\u001b[0m\n\u001b[1;32m    218\u001b[0m     \u001b[0;32mdef\u001b[0m \u001b[0mget_next_color\u001b[0m\u001b[0;34m(\u001b[0m\u001b[0mself\u001b[0m\u001b[0;34m)\u001b[0m\u001b[0;34m:\u001b[0m\u001b[0;34m\u001b[0m\u001b[0;34m\u001b[0m\u001b[0m\n",
            "\u001b[0;32m/usr/local/lib/python3.7/dist-packages/matplotlib/axes/_base.py\u001b[0m in \u001b[0;36m_plot_args\u001b[0;34m(self, tup, kwargs)\u001b[0m\n\u001b[1;32m    340\u001b[0m \u001b[0;34m\u001b[0m\u001b[0m\n\u001b[1;32m    341\u001b[0m         \u001b[0;32mif\u001b[0m \u001b[0mx\u001b[0m\u001b[0;34m.\u001b[0m\u001b[0mshape\u001b[0m\u001b[0;34m[\u001b[0m\u001b[0;36m0\u001b[0m\u001b[0;34m]\u001b[0m \u001b[0;34m!=\u001b[0m \u001b[0my\u001b[0m\u001b[0;34m.\u001b[0m\u001b[0mshape\u001b[0m\u001b[0;34m[\u001b[0m\u001b[0;36m0\u001b[0m\u001b[0;34m]\u001b[0m\u001b[0;34m:\u001b[0m\u001b[0;34m\u001b[0m\u001b[0;34m\u001b[0m\u001b[0m\n\u001b[0;32m--> 342\u001b[0;31m             raise ValueError(f\"x and y must have same first dimension, but \"\n\u001b[0m\u001b[1;32m    343\u001b[0m                              f\"have shapes {x.shape} and {y.shape}\")\n\u001b[1;32m    344\u001b[0m         \u001b[0;32mif\u001b[0m \u001b[0mx\u001b[0m\u001b[0;34m.\u001b[0m\u001b[0mndim\u001b[0m \u001b[0;34m>\u001b[0m \u001b[0;36m2\u001b[0m \u001b[0;32mor\u001b[0m \u001b[0my\u001b[0m\u001b[0;34m.\u001b[0m\u001b[0mndim\u001b[0m \u001b[0;34m>\u001b[0m \u001b[0;36m2\u001b[0m\u001b[0;34m:\u001b[0m\u001b[0;34m\u001b[0m\u001b[0;34m\u001b[0m\u001b[0m\n",
            "\u001b[0;31mValueError\u001b[0m: x and y must have same first dimension, but have shapes (14,) and (0,)"
          ]
        },
        {
          "output_type": "display_data",
          "data": {
            "image/png": "[encoded data removed]",
            "text/plain": [
              "<Figure size 432x288 with 1 Axes>"
            ]
          },
          "metadata": {
            "tags": [],
            "needs_background": "light"
          }
        }
      ]
    },
    {
      "cell_type": "code",
      "metadata": {
        "id": "RJNUCBKSpoXa"
      },
      "source": [
        ""
      ],
      "execution_count": null,
      "outputs": []
    }
  ]
}