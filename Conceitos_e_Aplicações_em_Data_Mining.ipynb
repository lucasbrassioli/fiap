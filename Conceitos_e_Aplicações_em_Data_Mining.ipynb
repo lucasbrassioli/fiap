{
  "nbformat": 4,
  "nbformat_minor": 0,
  "metadata": {
    "colab": {
      "name": "Conceitos e Aplicações em Data Mining.ipynb",
      "provenance": [],
      "collapsed_sections": [],
      "authorship_tag": "ABX9TyO4nqyVRTGQiDcVVrsWnuSV",
      "include_colab_link": true
    },
    "kernelspec": {
      "name": "python3",
      "display_name": "Python 3"
    },
    "language_info": {
      "name": "python"
    }
  },
  "cells": [
    {
      "cell_type": "markdown",
      "metadata": {
        "id": "view-in-github",
        "colab_type": "text"
      },
      "source": [
        "<a href=\"https://colab.research.google.com/github/lucasbrassioli/fiap/blob/master/Conceitos_e_Aplica%C3%A7%C3%B5es_em_Data_Mining.ipynb\" target=\"_parent\"><img src=\"https://colab.research.google.com/assets/colab-badge.svg\" alt=\"Open In Colab\"/></a>"
      ]
    },
    {
      "cell_type": "code",
      "metadata": {
        "colab": {
          "base_uri": "https://localhost:8080/"
        },
        "id": "rMH4q-KkVsKB",
        "outputId": "78036836-4e1a-47ca-c309-c5a14ea629d9"
      },
      "source": [
        "from google.colab import drive\n",
        "drive.mount('/content/gdrive')"
      ],
      "execution_count": null,
      "outputs": [
        {
          "output_type": "stream",
          "text": [
            "Drive already mounted at /content/gdrive; to attempt to forcibly remount, call drive.mount(\"/content/gdrive\", force_remount=True).\n"
          ],
          "name": "stdout"
        }
      ]
    },
    {
      "cell_type": "code",
      "metadata": {
        "id": "YiSkNJCzWOyj"
      },
      "source": [
        "import os\n",
        "os.environ['KAGGLE_CONFIG_DIR'] = \"/content/gdrive/MyDrive/Fiap/Conceitos_e_Aplicacoes_em_Data_Mining\""
      ],
      "execution_count": null,
      "outputs": []
    },
    {
      "cell_type": "code",
      "metadata": {
        "colab": {
          "base_uri": "https://localhost:8080/"
        },
        "id": "6cUdEKWQWy1Y",
        "outputId": "87d170db-a557-4289-8052-b9e4de1adbcf"
      },
      "source": [
        "%cd /content/gdrive/My Drive/Fiap/Conceitos_e_Aplicacoes_em_Data_Mining"
      ],
      "execution_count": null,
      "outputs": [
        {
          "output_type": "stream",
          "text": [
            "/content/gdrive/My Drive/Fiap/Conceitos_e_Aplicacoes_em_Data_Mining\n"
          ],
          "name": "stdout"
        }
      ]
    },
    {
      "cell_type": "code",
      "metadata": {
        "colab": {
          "base_uri": "https://localhost:8080/"
        },
        "id": "06qqAodoXS0o",
        "outputId": "e3e2b163-26d7-40b6-a1ce-e70f5e953494"
      },
      "source": [
        "ls"
      ],
      "execution_count": null,
      "outputs": [
        {
          "output_type": "stream",
          "text": [
            "UseAmarelo.csv\n"
          ],
          "name": "stdout"
        }
      ]
    },
    {
      "cell_type": "code",
      "metadata": {
        "id": "KgoL8svGXoEH"
      },
      "source": [
        "import pandas as pd"
      ],
      "execution_count": null,
      "outputs": []
    },
    {
      "cell_type": "code",
      "metadata": {
        "colab": {
          "base_uri": "https://localhost:8080/",
          "height": 289
        },
        "id": "nE37HIrXWpwP",
        "outputId": "a48ee472-5f9e-4d5f-a496-0af1d63338e1"
      },
      "source": [
        "df = pd.read_csv('UseAmarelo.csv',sep=';')\n",
        "df[:2]"
      ],
      "execution_count": null,
      "outputs": [
        {
          "output_type": "execute_result",
          "data": {
            "text/html": [
              "<div>\n",
              "<style scoped>\n",
              "    .dataframe tbody tr th:only-of-type {\n",
              "        vertical-align: middle;\n",
              "    }\n",
              "\n",
              "    .dataframe tbody tr th {\n",
              "        vertical-align: top;\n",
              "    }\n",
              "\n",
              "    .dataframe thead th {\n",
              "        text-align: right;\n",
              "    }\n",
              "</style>\n",
              "<table border=\"1\" class=\"dataframe\">\n",
              "  <thead>\n",
              "    <tr style=\"text-align: right;\">\n",
              "      <th></th>\n",
              "      <th>Date</th>\n",
              "      <th>Headline</th>\n",
              "      <th>URL</th>\n",
              "      <th>Opening Text</th>\n",
              "      <th>Hit Sentence</th>\n",
              "      <th>Source</th>\n",
              "      <th>Influencer</th>\n",
              "      <th>Country</th>\n",
              "      <th>Subregion</th>\n",
              "      <th>Language</th>\n",
              "      <th>Reach</th>\n",
              "      <th>Desktop Reach</th>\n",
              "      <th>Mobile Reach</th>\n",
              "      <th>Twitter Social Echo</th>\n",
              "      <th>Facebook Social Echo</th>\n",
              "      <th>Reddit Social Echo</th>\n",
              "      <th>National Viewership</th>\n",
              "      <th>Engagement</th>\n",
              "      <th>AVE</th>\n",
              "      <th>Sentiment</th>\n",
              "      <th>Key Phrases</th>\n",
              "      <th>Input Name</th>\n",
              "      <th>Keywords</th>\n",
              "      <th>Twitter Authority</th>\n",
              "      <th>Tweet Id</th>\n",
              "      <th>Twitter Id</th>\n",
              "      <th>Twitter Client</th>\n",
              "      <th>Twitter Screen Name</th>\n",
              "      <th>Twitter User Profile Url</th>\n",
              "      <th>Twitter Bio</th>\n",
              "      <th>Twitter Followers</th>\n",
              "      <th>Twitter Following</th>\n",
              "      <th>Alternate Date Format</th>\n",
              "      <th>Time</th>\n",
              "      <th>State</th>\n",
              "      <th>City</th>\n",
              "      <th>Document Tags</th>\n",
              "    </tr>\n",
              "  </thead>\n",
              "  <tbody>\n",
              "    <tr>\n",
              "      <th>0</th>\n",
              "      <td>26-Jul-2020 03:24PM</td>\n",
              "      <td>NaN</td>\n",
              "      <td>https://twitter.com/Joaovc_28/statuses/1287453...</td>\n",
              "      <td>NaN</td>\n",
              "      <td>RT @BradoRevista: Junte-se a nós e #UseAmarelo...</td>\n",
              "      <td>Twitter</td>\n",
              "      <td>@joaovc_28</td>\n",
              "      <td>Unknown</td>\n",
              "      <td>NaN</td>\n",
              "      <td>Portuguese</td>\n",
              "      <td>314</td>\n",
              "      <td>0</td>\n",
              "      <td>0</td>\n",
              "      <td>NaN</td>\n",
              "      <td>NaN</td>\n",
              "      <td>NaN</td>\n",
              "      <td>0</td>\n",
              "      <td>NaN</td>\n",
              "      <td>2.9</td>\n",
              "      <td>Positive</td>\n",
              "      <td>próximos dias</td>\n",
              "      <td>Adhoc Search Export</td>\n",
              "      <td>#UseAmarelo</td>\n",
              "      <td>5.0</td>\n",
              "      <td>'1287453671039664129'</td>\n",
              "      <td>9,29152E+17</td>\n",
              "      <td>Twitter for Android</td>\n",
              "      <td>Jão 🇧🇷</td>\n",
              "      <td>https://twitter.com/Joaovc_28</td>\n",
              "      <td>Mágico das frases endiabradas sem mel</td>\n",
              "      <td>314.0</td>\n",
              "      <td>605.0</td>\n",
              "      <td>Jul 26, 2020</td>\n",
              "      <td>3:24 PM</td>\n",
              "      <td>NaN</td>\n",
              "      <td>NaN</td>\n",
              "      <td>NaN</td>\n",
              "    </tr>\n",
              "    <tr>\n",
              "      <th>1</th>\n",
              "      <td>26-Jul-2020 03:23PM</td>\n",
              "      <td>NaN</td>\n",
              "      <td>https://twitter.com/Joaovc_28/statuses/1287453...</td>\n",
              "      <td>NaN</td>\n",
              "      <td>RT @BradoRevista: Em 26 de junho, aniversário ...</td>\n",
              "      <td>Twitter</td>\n",
              "      <td>@joaovc_28</td>\n",
              "      <td>Unknown</td>\n",
              "      <td>NaN</td>\n",
              "      <td>Portuguese</td>\n",
              "      <td>314</td>\n",
              "      <td>0</td>\n",
              "      <td>0</td>\n",
              "      <td>NaN</td>\n",
              "      <td>NaN</td>\n",
              "      <td>NaN</td>\n",
              "      <td>0</td>\n",
              "      <td>NaN</td>\n",
              "      <td>2.9</td>\n",
              "      <td>Neutral</td>\n",
              "      <td>NaN</td>\n",
              "      <td>Adhoc Search Export</td>\n",
              "      <td>#UseAmarelo</td>\n",
              "      <td>5.0</td>\n",
              "      <td>'1287453611019182087'</td>\n",
              "      <td>9,29152E+17</td>\n",
              "      <td>Twitter for Android</td>\n",
              "      <td>Jão 🇧🇷</td>\n",
              "      <td>https://twitter.com/Joaovc_28</td>\n",
              "      <td>Mágico das frases endiabradas sem mel</td>\n",
              "      <td>314.0</td>\n",
              "      <td>605.0</td>\n",
              "      <td>Jul 26, 2020</td>\n",
              "      <td>3:23 PM</td>\n",
              "      <td>NaN</td>\n",
              "      <td>NaN</td>\n",
              "      <td>NaN</td>\n",
              "    </tr>\n",
              "  </tbody>\n",
              "</table>\n",
              "</div>"
            ],
            "text/plain": [
              "                  Date  Headline  ... City  Document Tags\n",
              "0  26-Jul-2020 03:24PM       NaN  ...  NaN            NaN\n",
              "1  26-Jul-2020 03:23PM       NaN  ...  NaN            NaN\n",
              "\n",
              "[2 rows x 37 columns]"
            ]
          },
          "metadata": {
            "tags": []
          },
          "execution_count": 33
        }
      ]
    },
    {
      "cell_type": "code",
      "metadata": {
        "colab": {
          "base_uri": "https://localhost:8080/"
        },
        "id": "NJs6d7g6Xmon",
        "outputId": "ba411a8b-1729-4259-9df9-f2c9828fa0e8"
      },
      "source": [
        "df.columns"
      ],
      "execution_count": null,
      "outputs": [
        {
          "output_type": "execute_result",
          "data": {
            "text/plain": [
              "Index(['Date', 'Headline', 'URL', 'Opening Text', 'Hit Sentence', 'Source',\n",
              "       'Influencer', 'Country', 'Subregion', 'Language', 'Reach',\n",
              "       'Desktop Reach', 'Mobile Reach', 'Twitter Social Echo',\n",
              "       'Facebook Social Echo', 'Reddit Social Echo', 'National Viewership',\n",
              "       'Engagement', 'AVE', 'Sentiment', 'Key Phrases', 'Input Name',\n",
              "       'Keywords', 'Twitter Authority', 'Tweet Id', 'Twitter Id',\n",
              "       'Twitter Client', 'Twitter Screen Name', 'Twitter User Profile Url',\n",
              "       'Twitter Bio', 'Twitter Followers', 'Twitter Following',\n",
              "       'Alternate Date Format', 'Time', 'State', 'City', 'Document Tags'],\n",
              "      dtype='object')"
            ]
          },
          "metadata": {
            "tags": []
          },
          "execution_count": 60
        }
      ]
    },
    {
      "cell_type": "code",
      "metadata": {
        "colab": {
          "base_uri": "https://localhost:8080/"
        },
        "id": "vaDtQRO1d-xR",
        "outputId": "a0d16be1-95f4-44ca-f768-392dd39e15a8"
      },
      "source": [
        "df.dtypes"
      ],
      "execution_count": null,
      "outputs": [
        {
          "output_type": "execute_result",
          "data": {
            "text/plain": [
              "Date                         object\n",
              "Headline                    float64\n",
              "URL                          object\n",
              "Opening Text                float64\n",
              "Hit Sentence                 object\n",
              "Source                       object\n",
              "Influencer                   object\n",
              "Country                      object\n",
              "Subregion                   float64\n",
              "Language                     object\n",
              "Reach                         int64\n",
              "Desktop Reach                 int64\n",
              "Mobile Reach                  int64\n",
              "Twitter Social Echo         float64\n",
              "Facebook Social Echo        float64\n",
              "Reddit Social Echo          float64\n",
              "National Viewership           int64\n",
              "Engagement                  float64\n",
              "AVE                         float64\n",
              "Sentiment                    object\n",
              "Key Phrases                  object\n",
              "Input Name                   object\n",
              "Keywords                     object\n",
              "Twitter Authority           float64\n",
              "Tweet Id                     object\n",
              "Twitter Id                   object\n",
              "Twitter Client               object\n",
              "Twitter Screen Name          object\n",
              "Twitter User Profile Url     object\n",
              "Twitter Bio                  object\n",
              "Twitter Followers           float64\n",
              "Twitter Following           float64\n",
              "Alternate Date Format        object\n",
              "Time                         object\n",
              "State                        object\n",
              "City                         object\n",
              "Document Tags               float64\n",
              "dtype: object"
            ]
          },
          "metadata": {
            "tags": []
          },
          "execution_count": 62
        }
      ]
    },
    {
      "cell_type": "code",
      "metadata": {
        "id": "dYliV7zGYsSv"
      },
      "source": [
        "from sklearn.model_selection import train_test_split"
      ],
      "execution_count": null,
      "outputs": []
    },
    {
      "cell_type": "code",
      "metadata": {
        "colab": {
          "base_uri": "https://localhost:8080/"
        },
        "id": "gjNqCSb9ZEC4",
        "outputId": "00b89c07-c67c-411f-d5cd-9a8ac3eb0ba2"
      },
      "source": [
        "df['Sentiment'].describe()"
      ],
      "execution_count": null,
      "outputs": [
        {
          "output_type": "execute_result",
          "data": {
            "text/plain": [
              "count       19411\n",
              "unique          4\n",
              "top       Neutral\n",
              "freq        14569\n",
              "Name: Sentiment, dtype: object"
            ]
          },
          "metadata": {
            "tags": []
          },
          "execution_count": 38
        }
      ]
    },
    {
      "cell_type": "code",
      "metadata": {
        "colab": {
          "base_uri": "https://localhost:8080/"
        },
        "id": "LE5OQb6xZI5g",
        "outputId": "69d6b9a2-34c5-4bfb-99a5-1fb8e1fe47d3"
      },
      "source": [
        "df['Sentiment'].unique()"
      ],
      "execution_count": null,
      "outputs": [
        {
          "output_type": "execute_result",
          "data": {
            "text/plain": [
              "array(['Positive', 'Neutral', 'Negative', 'Not Rated'], dtype=object)"
            ]
          },
          "metadata": {
            "tags": []
          },
          "execution_count": 39
        }
      ]
    },
    {
      "cell_type": "code",
      "metadata": {
        "colab": {
          "base_uri": "https://localhost:8080/"
        },
        "id": "WKRr6irlar6A",
        "outputId": "4b3d4ed1-cb2f-413f-851c-2dbf6735f1e0"
      },
      "source": [
        "df['Twitter Authority'].describe()"
      ],
      "execution_count": null,
      "outputs": [
        {
          "output_type": "execute_result",
          "data": {
            "text/plain": [
              "count    19059.000000\n",
              "mean         4.356734\n",
              "std          1.852601\n",
              "min          1.000000\n",
              "25%          3.000000\n",
              "50%          4.000000\n",
              "75%          6.000000\n",
              "max         10.000000\n",
              "Name: Twitter Authority, dtype: float64"
            ]
          },
          "metadata": {
            "tags": []
          },
          "execution_count": 44
        }
      ]
    },
    {
      "cell_type": "code",
      "metadata": {
        "colab": {
          "base_uri": "https://localhost:8080/"
        },
        "id": "x5NIBvbVa9Xw",
        "outputId": "8cb3f528-a9d3-48c3-dff5-063af2fe06df"
      },
      "source": [
        "df['Twitter Followers'].describe()"
      ],
      "execution_count": null,
      "outputs": [
        {
          "output_type": "execute_result",
          "data": {
            "text/plain": [
              "count    1.927600e+04\n",
              "mean     7.140896e+04\n",
              "std      7.132620e+05\n",
              "min      1.000000e+00\n",
              "25%      6.700000e+01\n",
              "50%      2.520000e+02\n",
              "75%      9.190000e+02\n",
              "max      1.309845e+07\n",
              "Name: Twitter Followers, dtype: float64"
            ]
          },
          "metadata": {
            "tags": []
          },
          "execution_count": 45
        }
      ]
    },
    {
      "cell_type": "code",
      "metadata": {
        "colab": {
          "base_uri": "https://localhost:8080/"
        },
        "id": "PmwvYSGTbH4I",
        "outputId": "8e7ea216-cf1d-4e45-d0e7-43b1b157b108"
      },
      "source": [
        "df['Reach'].describe()"
      ],
      "execution_count": null,
      "outputs": [
        {
          "output_type": "execute_result",
          "data": {
            "text/plain": [
              "count    1.941100e+04\n",
              "mean     7.091232e+04\n",
              "std      7.108021e+05\n",
              "min      0.000000e+00\n",
              "25%      6.500000e+01\n",
              "50%      2.480000e+02\n",
              "75%      9.070000e+02\n",
              "max      1.309845e+07\n",
              "Name: Reach, dtype: float64"
            ]
          },
          "metadata": {
            "tags": []
          },
          "execution_count": 49
        }
      ]
    },
    {
      "cell_type": "code",
      "metadata": {
        "colab": {
          "base_uri": "https://localhost:8080/"
        },
        "id": "KQ1k3QsGbO0f",
        "outputId": "7ee4fb48-1dc7-4f31-af99-a6a447a14a28"
      },
      "source": [
        "df['Twitter Id'].describe()"
      ],
      "execution_count": null,
      "outputs": [
        {
          "output_type": "execute_result",
          "data": {
            "text/plain": [
              "count        19411\n",
              "unique       14373\n",
              "top       38535531\n",
              "freq           187\n",
              "Name: Twitter Id, dtype: object"
            ]
          },
          "metadata": {
            "tags": []
          },
          "execution_count": 72
        }
      ]
    },
    {
      "cell_type": "code",
      "metadata": {
        "id": "Zub-lvsAe1IZ",
        "colab": {
          "base_uri": "https://localhost:8080/"
        },
        "outputId": "4adc43bf-bef0-4b6b-911e-5e5ec5a265a0"
      },
      "source": [
        "df['AVE'].describe()"
      ],
      "execution_count": null,
      "outputs": [
        {
          "output_type": "execute_result",
          "data": {
            "text/plain": [
              "count     19411.000000\n",
              "mean        655.939131\n",
              "std        6574.919020\n",
              "min           0.000000\n",
              "25%           0.600000\n",
              "50%           2.290000\n",
              "75%           8.390000\n",
              "max      121160.640000\n",
              "Name: AVE, dtype: float64"
            ]
          },
          "metadata": {
            "tags": []
          },
          "execution_count": 73
        }
      ]
    },
    {
      "cell_type": "code",
      "metadata": {
        "colab": {
          "base_uri": "https://localhost:8080/",
          "height": 285
        },
        "id": "aOA1RGh-blCI",
        "outputId": "e0434d82-817a-4fab-dc77-bf98972b1895"
      },
      "source": [
        "import seaborn as sns\n",
        "\n",
        "sns.set_theme(style=\"darkgrid\")\n",
        "ax = sns.countplot(x=\"Sentiment\", data=df, order = df['Sentiment'].value_counts().index)"
      ],
      "execution_count": null,
      "outputs": [
        {
          "output_type": "display_data",
          "data": {
            "image/png": "[encoded data removed]",
            "text/plain": [
              "<Figure size 432x288 with 1 Axes>"
            ]
          },
          "metadata": {
            "tags": []
          }
        }
      ]
    },
    {
      "cell_type": "code",
      "metadata": {
        "colab": {
          "base_uri": "https://localhost:8080/",
          "height": 289
        },
        "id": "FNW4etDdb4B4",
        "outputId": "a76fd72b-6fb9-4f3f-a664-0a429bf4ccac"
      },
      "source": [
        "df.fillna(\"Unknown\",inplace=True)\n",
        "df[:2]"
      ],
      "execution_count": null,
      "outputs": [
        {
          "output_type": "execute_result",
          "data": {
            "text/html": [
              "<div>\n",
              "<style scoped>\n",
              "    .dataframe tbody tr th:only-of-type {\n",
              "        vertical-align: middle;\n",
              "    }\n",
              "\n",
              "    .dataframe tbody tr th {\n",
              "        vertical-align: top;\n",
              "    }\n",
              "\n",
              "    .dataframe thead th {\n",
              "        text-align: right;\n",
              "    }\n",
              "</style>\n",
              "<table border=\"1\" class=\"dataframe\">\n",
              "  <thead>\n",
              "    <tr style=\"text-align: right;\">\n",
              "      <th></th>\n",
              "      <th>Date</th>\n",
              "      <th>Headline</th>\n",
              "      <th>URL</th>\n",
              "      <th>Opening Text</th>\n",
              "      <th>Hit Sentence</th>\n",
              "      <th>Source</th>\n",
              "      <th>Influencer</th>\n",
              "      <th>Country</th>\n",
              "      <th>Subregion</th>\n",
              "      <th>Language</th>\n",
              "      <th>Reach</th>\n",
              "      <th>Desktop Reach</th>\n",
              "      <th>Mobile Reach</th>\n",
              "      <th>Twitter Social Echo</th>\n",
              "      <th>Facebook Social Echo</th>\n",
              "      <th>Reddit Social Echo</th>\n",
              "      <th>National Viewership</th>\n",
              "      <th>Engagement</th>\n",
              "      <th>AVE</th>\n",
              "      <th>Sentiment</th>\n",
              "      <th>Key Phrases</th>\n",
              "      <th>Input Name</th>\n",
              "      <th>Keywords</th>\n",
              "      <th>Twitter Authority</th>\n",
              "      <th>Tweet Id</th>\n",
              "      <th>Twitter Id</th>\n",
              "      <th>Twitter Client</th>\n",
              "      <th>Twitter Screen Name</th>\n",
              "      <th>Twitter User Profile Url</th>\n",
              "      <th>Twitter Bio</th>\n",
              "      <th>Twitter Followers</th>\n",
              "      <th>Twitter Following</th>\n",
              "      <th>Alternate Date Format</th>\n",
              "      <th>Time</th>\n",
              "      <th>State</th>\n",
              "      <th>City</th>\n",
              "      <th>Document Tags</th>\n",
              "    </tr>\n",
              "  </thead>\n",
              "  <tbody>\n",
              "    <tr>\n",
              "      <th>0</th>\n",
              "      <td>26-Jul-2020 03:24PM</td>\n",
              "      <td>Unknown</td>\n",
              "      <td>https://twitter.com/Joaovc_28/statuses/1287453...</td>\n",
              "      <td>Unknown</td>\n",
              "      <td>RT @BradoRevista: Junte-se a nós e #UseAmarelo...</td>\n",
              "      <td>Twitter</td>\n",
              "      <td>@joaovc_28</td>\n",
              "      <td>Unknown</td>\n",
              "      <td>Unknown</td>\n",
              "      <td>Portuguese</td>\n",
              "      <td>314</td>\n",
              "      <td>0</td>\n",
              "      <td>0</td>\n",
              "      <td>Unknown</td>\n",
              "      <td>Unknown</td>\n",
              "      <td>Unknown</td>\n",
              "      <td>0</td>\n",
              "      <td>Unknown</td>\n",
              "      <td>2.9</td>\n",
              "      <td>Positive</td>\n",
              "      <td>próximos dias</td>\n",
              "      <td>Adhoc Search Export</td>\n",
              "      <td>#UseAmarelo</td>\n",
              "      <td>5</td>\n",
              "      <td>'1287453671039664129'</td>\n",
              "      <td>9,29152E+17</td>\n",
              "      <td>Twitter for Android</td>\n",
              "      <td>Jão 🇧🇷</td>\n",
              "      <td>https://twitter.com/Joaovc_28</td>\n",
              "      <td>Mágico das frases endiabradas sem mel</td>\n",
              "      <td>314</td>\n",
              "      <td>605</td>\n",
              "      <td>Jul 26, 2020</td>\n",
              "      <td>3:24 PM</td>\n",
              "      <td>Unknown</td>\n",
              "      <td>Unknown</td>\n",
              "      <td>Unknown</td>\n",
              "    </tr>\n",
              "    <tr>\n",
              "      <th>1</th>\n",
              "      <td>26-Jul-2020 03:23PM</td>\n",
              "      <td>Unknown</td>\n",
              "      <td>https://twitter.com/Joaovc_28/statuses/1287453...</td>\n",
              "      <td>Unknown</td>\n",
              "      <td>RT @BradoRevista: Em 26 de junho, aniversário ...</td>\n",
              "      <td>Twitter</td>\n",
              "      <td>@joaovc_28</td>\n",
              "      <td>Unknown</td>\n",
              "      <td>Unknown</td>\n",
              "      <td>Portuguese</td>\n",
              "      <td>314</td>\n",
              "      <td>0</td>\n",
              "      <td>0</td>\n",
              "      <td>Unknown</td>\n",
              "      <td>Unknown</td>\n",
              "      <td>Unknown</td>\n",
              "      <td>0</td>\n",
              "      <td>Unknown</td>\n",
              "      <td>2.9</td>\n",
              "      <td>Neutral</td>\n",
              "      <td>Unknown</td>\n",
              "      <td>Adhoc Search Export</td>\n",
              "      <td>#UseAmarelo</td>\n",
              "      <td>5</td>\n",
              "      <td>'1287453611019182087'</td>\n",
              "      <td>9,29152E+17</td>\n",
              "      <td>Twitter for Android</td>\n",
              "      <td>Jão 🇧🇷</td>\n",
              "      <td>https://twitter.com/Joaovc_28</td>\n",
              "      <td>Mágico das frases endiabradas sem mel</td>\n",
              "      <td>314</td>\n",
              "      <td>605</td>\n",
              "      <td>Jul 26, 2020</td>\n",
              "      <td>3:23 PM</td>\n",
              "      <td>Unknown</td>\n",
              "      <td>Unknown</td>\n",
              "      <td>Unknown</td>\n",
              "    </tr>\n",
              "  </tbody>\n",
              "</table>\n",
              "</div>"
            ],
            "text/plain": [
              "                  Date Headline  ...     City Document Tags\n",
              "0  26-Jul-2020 03:24PM  Unknown  ...  Unknown       Unknown\n",
              "1  26-Jul-2020 03:23PM  Unknown  ...  Unknown       Unknown\n",
              "\n",
              "[2 rows x 37 columns]"
            ]
          },
          "metadata": {
            "tags": []
          },
          "execution_count": 80
        }
      ]
    },
    {
      "cell_type": "code",
      "metadata": {
        "colab": {
          "base_uri": "https://localhost:8080/",
          "height": 137
        },
        "id": "rJlf58XKgLjq",
        "outputId": "d3a2a486-b4a1-4790-a55e-d57f89389dc6"
      },
      "source": [
        "df.rename(columns={'Twitter ID': 'Twitter_ID'})\n",
        "df[:2]"
      ],
      "execution_count": null,
      "outputs": [
        {
          "output_type": "error",
          "ename": "SyntaxError",
          "evalue": "ignored",
          "traceback": [
            "\u001b[0;36m  File \u001b[0;32m\"<ipython-input-89-f41f0813ccb4>\"\u001b[0;36m, line \u001b[0;32m1\u001b[0m\n\u001b[0;31m    df.rename(columns={'Twitter ID': 'Twitter_ID'}, inplace = True}, axis=1)\u001b[0m\n\u001b[0m                                                                  ^\u001b[0m\n\u001b[0;31mSyntaxError\u001b[0m\u001b[0;31m:\u001b[0m invalid syntax\n"
          ]
        }
      ]
    },
    {
      "cell_type": "code",
      "metadata": {
        "id": "MOM8KRQFfD1b"
      },
      "source": [
        ""
      ],
      "execution_count": null,
      "outputs": []
    }
  ]
}