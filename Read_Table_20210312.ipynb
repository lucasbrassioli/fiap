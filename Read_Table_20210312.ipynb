{
  "nbformat": 4,
  "nbformat_minor": 0,
  "metadata": {
    "colab": {
      "name": "Read_Table_20210312.ipynb",
      "provenance": [],
      "collapsed_sections": [],
      "authorship_tag": "ABX9TyN7QkzQmNJVCz74hIgQY342",
      "include_colab_link": true
    },
    "kernelspec": {
      "name": "python3",
      "display_name": "Python 3"
    }
  },
  "cells": [
    {
      "cell_type": "markdown",
      "metadata": {
        "id": "view-in-github",
        "colab_type": "text"
      },
      "source": [
        "<a href=\"https://colab.research.google.com/github/lucasbrassioli/fiap/blob/master/Read_Table_20210312.ipynb\" target=\"_parent\"><img src=\"https://colab.research.google.com/assets/colab-badge.svg\" alt=\"Open In Colab\"/></a>"
      ]
    },
    {
      "cell_type": "code",
      "metadata": {
        "colab": {
          "base_uri": "https://localhost:8080/"
        },
        "id": "r8cYzbbwA103",
        "outputId": "0a3e279c-bbfb-49b7-8291-be2dc602caf4"
      },
      "source": [
        "from google.colab import drive\r\n",
        "drive.mount('/content/gdrive')"
      ],
      "execution_count": 1,
      "outputs": [
        {
          "output_type": "stream",
          "text": [
            "Mounted at /content/gdrive\n"
          ],
          "name": "stdout"
        }
      ]
    },
    {
      "cell_type": "code",
      "metadata": {
        "id": "YUwaMsfPA4Ro"
      },
      "source": [
        "import os\r\n",
        "os.environ['KAGGLE_CONFIG_DIR'] = \"/content/gdrive/My Drive/Kaggle\"# /content/gdrive/My Drive/Kaggle is the path where kaggle.json is present in the Google Drive"
      ],
      "execution_count": 2,
      "outputs": []
    },
    {
      "cell_type": "code",
      "metadata": {
        "colab": {
          "base_uri": "https://localhost:8080/"
        },
        "id": "DEVhWBtAA_Ei",
        "outputId": "f13acefa-b6b5-453a-b482-38b8bea1d318"
      },
      "source": [
        "#changing the working directory\r\n",
        "%cd /content/gdrive/My Drive/Kaggle\r\n",
        "#Check the present working directory using pwd command"
      ],
      "execution_count": 3,
      "outputs": [
        {
          "output_type": "stream",
          "text": [
            "/content/gdrive/My Drive/Kaggle\n"
          ],
          "name": "stdout"
        }
      ]
    },
    {
      "cell_type": "code",
      "metadata": {
        "colab": {
          "base_uri": "https://localhost:8080/"
        },
        "id": "cRyB0EnmBBGC",
        "outputId": "4643882c-26e7-4d59-f1a0-aec77c5e33ad"
      },
      "source": [
        "ls"
      ],
      "execution_count": 14,
      "outputs": [
        {
          "output_type": "stream",
          "text": [
            "2015.csv  creditcard.csv      houses_to_rent_v2.csv  winemag-data-130k-v2.csv\n",
            "2016.csv  database.sqlite     Iris.csv               winemag-data-130k-v2.json\n",
            "2017.csv  data.csv            kaggle.json            winemag-data_first150k.csv\n",
            "2018.csv  drug200.csv         UseAmarelo.csv\n",
            "2019.csv  houses_to_rent.csv  vgsales.csv\n"
          ],
          "name": "stdout"
        }
      ]
    },
    {
      "cell_type": "code",
      "metadata": {
        "id": "Tx34nJ1DBESL"
      },
      "source": [
        "import pandas as pd"
      ],
      "execution_count": 15,
      "outputs": []
    },
    {
      "cell_type": "code",
      "metadata": {
        "colab": {
          "base_uri": "https://localhost:8080/",
          "height": 556
        },
        "id": "XEfEeJwxBL0b",
        "outputId": "e7ed75c0-6927-4b0c-b66a-dce76529d890"
      },
      "source": [
        "df = pd.read_csv('UseAmarelo.csv', sep=';')\r\n",
        "df.head()"
      ],
      "execution_count": 17,
      "outputs": [
        {
          "output_type": "execute_result",
          "data": {
            "text/html": [
              "<div>\n",
              "<style scoped>\n",
              "    .dataframe tbody tr th:only-of-type {\n",
              "        vertical-align: middle;\n",
              "    }\n",
              "\n",
              "    .dataframe tbody tr th {\n",
              "        vertical-align: top;\n",
              "    }\n",
              "\n",
              "    .dataframe thead th {\n",
              "        text-align: right;\n",
              "    }\n",
              "</style>\n",
              "<table border=\"1\" class=\"dataframe\">\n",
              "  <thead>\n",
              "    <tr style=\"text-align: right;\">\n",
              "      <th></th>\n",
              "      <th>Date</th>\n",
              "      <th>Headline</th>\n",
              "      <th>URL</th>\n",
              "      <th>Opening Text</th>\n",
              "      <th>Hit Sentence</th>\n",
              "      <th>Source</th>\n",
              "      <th>Influencer</th>\n",
              "      <th>Country</th>\n",
              "      <th>Subregion</th>\n",
              "      <th>Language</th>\n",
              "      <th>Reach</th>\n",
              "      <th>Desktop Reach</th>\n",
              "      <th>Mobile Reach</th>\n",
              "      <th>Twitter Social Echo</th>\n",
              "      <th>Facebook Social Echo</th>\n",
              "      <th>Reddit Social Echo</th>\n",
              "      <th>National Viewership</th>\n",
              "      <th>Engagement</th>\n",
              "      <th>AVE</th>\n",
              "      <th>Sentiment</th>\n",
              "      <th>Key Phrases</th>\n",
              "      <th>Input Name</th>\n",
              "      <th>Keywords</th>\n",
              "      <th>Twitter Authority</th>\n",
              "      <th>Tweet Id</th>\n",
              "      <th>Twitter Id</th>\n",
              "      <th>Twitter Client</th>\n",
              "      <th>Twitter Screen Name</th>\n",
              "      <th>Twitter User Profile Url</th>\n",
              "      <th>Twitter Bio</th>\n",
              "      <th>Twitter Followers</th>\n",
              "      <th>Twitter Following</th>\n",
              "      <th>Alternate Date Format</th>\n",
              "      <th>Time</th>\n",
              "      <th>State</th>\n",
              "      <th>City</th>\n",
              "      <th>Document Tags</th>\n",
              "    </tr>\n",
              "  </thead>\n",
              "  <tbody>\n",
              "    <tr>\n",
              "      <th>0</th>\n",
              "      <td>26-Jul-2020 03:24PM</td>\n",
              "      <td>NaN</td>\n",
              "      <td>https://twitter.com/Joaovc_28/statuses/1287453...</td>\n",
              "      <td>NaN</td>\n",
              "      <td>RT @BradoRevista: Junte-se a nós e #UseAmarelo...</td>\n",
              "      <td>Twitter</td>\n",
              "      <td>@joaovc_28</td>\n",
              "      <td>Unknown</td>\n",
              "      <td>NaN</td>\n",
              "      <td>Portuguese</td>\n",
              "      <td>314</td>\n",
              "      <td>0</td>\n",
              "      <td>0</td>\n",
              "      <td>NaN</td>\n",
              "      <td>NaN</td>\n",
              "      <td>NaN</td>\n",
              "      <td>0</td>\n",
              "      <td>NaN</td>\n",
              "      <td>2.90</td>\n",
              "      <td>Positive</td>\n",
              "      <td>próximos dias</td>\n",
              "      <td>Adhoc Search Export</td>\n",
              "      <td>#UseAmarelo</td>\n",
              "      <td>5.0</td>\n",
              "      <td>'1287453671039664129'</td>\n",
              "      <td>9,29152E+17</td>\n",
              "      <td>Twitter for Android</td>\n",
              "      <td>Jão 🇧🇷</td>\n",
              "      <td>https://twitter.com/Joaovc_28</td>\n",
              "      <td>Mágico das frases endiabradas sem mel</td>\n",
              "      <td>314.0</td>\n",
              "      <td>605.0</td>\n",
              "      <td>Jul 26, 2020</td>\n",
              "      <td>3:24 PM</td>\n",
              "      <td>NaN</td>\n",
              "      <td>NaN</td>\n",
              "      <td>NaN</td>\n",
              "    </tr>\n",
              "    <tr>\n",
              "      <th>1</th>\n",
              "      <td>26-Jul-2020 03:23PM</td>\n",
              "      <td>NaN</td>\n",
              "      <td>https://twitter.com/Joaovc_28/statuses/1287453...</td>\n",
              "      <td>NaN</td>\n",
              "      <td>RT @BradoRevista: Em 26 de junho, aniversário ...</td>\n",
              "      <td>Twitter</td>\n",
              "      <td>@joaovc_28</td>\n",
              "      <td>Unknown</td>\n",
              "      <td>NaN</td>\n",
              "      <td>Portuguese</td>\n",
              "      <td>314</td>\n",
              "      <td>0</td>\n",
              "      <td>0</td>\n",
              "      <td>NaN</td>\n",
              "      <td>NaN</td>\n",
              "      <td>NaN</td>\n",
              "      <td>0</td>\n",
              "      <td>NaN</td>\n",
              "      <td>2.90</td>\n",
              "      <td>Neutral</td>\n",
              "      <td>NaN</td>\n",
              "      <td>Adhoc Search Export</td>\n",
              "      <td>#UseAmarelo</td>\n",
              "      <td>5.0</td>\n",
              "      <td>'1287453611019182087'</td>\n",
              "      <td>9,29152E+17</td>\n",
              "      <td>Twitter for Android</td>\n",
              "      <td>Jão 🇧🇷</td>\n",
              "      <td>https://twitter.com/Joaovc_28</td>\n",
              "      <td>Mágico das frases endiabradas sem mel</td>\n",
              "      <td>314.0</td>\n",
              "      <td>605.0</td>\n",
              "      <td>Jul 26, 2020</td>\n",
              "      <td>3:23 PM</td>\n",
              "      <td>NaN</td>\n",
              "      <td>NaN</td>\n",
              "      <td>NaN</td>\n",
              "    </tr>\n",
              "    <tr>\n",
              "      <th>2</th>\n",
              "      <td>26-Jul-2020 03:23PM</td>\n",
              "      <td>NaN</td>\n",
              "      <td>https://twitter.com/BradoRevista/statuses/1287...</td>\n",
              "      <td>NaN</td>\n",
              "      <td>Junte-se a nós e #UseAmarelo você também! E fi...</td>\n",
              "      <td>Twitter</td>\n",
              "      <td>@bradorevista</td>\n",
              "      <td>Unknown</td>\n",
              "      <td>NaN</td>\n",
              "      <td>Portuguese</td>\n",
              "      <td>95</td>\n",
              "      <td>0</td>\n",
              "      <td>0</td>\n",
              "      <td>NaN</td>\n",
              "      <td>NaN</td>\n",
              "      <td>NaN</td>\n",
              "      <td>0</td>\n",
              "      <td>NaN</td>\n",
              "      <td>0.88</td>\n",
              "      <td>Positive</td>\n",
              "      <td>próximos dias</td>\n",
              "      <td>Adhoc Search Export</td>\n",
              "      <td>#UseAmarelo</td>\n",
              "      <td>3.0</td>\n",
              "      <td>'1287453483008954371'</td>\n",
              "      <td>1,2505E+18</td>\n",
              "      <td>Twitter for Android</td>\n",
              "      <td>Revista Brado</td>\n",
              "      <td>https://twitter.com/BradoRevista</td>\n",
              "      <td>Perfil oficial da Revista Brado, para que todo...</td>\n",
              "      <td>95.0</td>\n",
              "      <td>18.0</td>\n",
              "      <td>Jul 26, 2020</td>\n",
              "      <td>3:23 PM</td>\n",
              "      <td>NaN</td>\n",
              "      <td>NaN</td>\n",
              "      <td>NaN</td>\n",
              "    </tr>\n",
              "    <tr>\n",
              "      <th>3</th>\n",
              "      <td>26-Jul-2020 03:21PM</td>\n",
              "      <td>NaN</td>\n",
              "      <td>https://twitter.com/BradoRevista/statuses/1287...</td>\n",
              "      <td>NaN</td>\n",
              "      <td>Em 26 de junho, aniversário da Passeata dos Ce...</td>\n",
              "      <td>Twitter</td>\n",
              "      <td>@bradorevista</td>\n",
              "      <td>Unknown</td>\n",
              "      <td>NaN</td>\n",
              "      <td>Portuguese</td>\n",
              "      <td>95</td>\n",
              "      <td>0</td>\n",
              "      <td>0</td>\n",
              "      <td>NaN</td>\n",
              "      <td>NaN</td>\n",
              "      <td>NaN</td>\n",
              "      <td>0</td>\n",
              "      <td>NaN</td>\n",
              "      <td>0.88</td>\n",
              "      <td>Neutral</td>\n",
              "      <td>NaN</td>\n",
              "      <td>Adhoc Search Export</td>\n",
              "      <td>#UseAmarelo</td>\n",
              "      <td>3.0</td>\n",
              "      <td>'1287453014589145089'</td>\n",
              "      <td>1,2505E+18</td>\n",
              "      <td>Twitter for Android</td>\n",
              "      <td>Revista Brado</td>\n",
              "      <td>https://twitter.com/BradoRevista</td>\n",
              "      <td>Perfil oficial da Revista Brado, para que todo...</td>\n",
              "      <td>95.0</td>\n",
              "      <td>18.0</td>\n",
              "      <td>Jul 26, 2020</td>\n",
              "      <td>3:21 PM</td>\n",
              "      <td>NaN</td>\n",
              "      <td>NaN</td>\n",
              "      <td>NaN</td>\n",
              "    </tr>\n",
              "    <tr>\n",
              "      <th>4</th>\n",
              "      <td>26-Jul-2020 02:53PM</td>\n",
              "      <td>NaN</td>\n",
              "      <td>https://twitter.com/vanidacol/statuses/1287445...</td>\n",
              "      <td>NaN</td>\n",
              "      <td>QT @folha: RT @cal_dias: Facebook atenda contr...</td>\n",
              "      <td>Twitter</td>\n",
              "      <td>@vanidacol</td>\n",
              "      <td>Brazil</td>\n",
              "      <td>NaN</td>\n",
              "      <td>Portuguese</td>\n",
              "      <td>3391</td>\n",
              "      <td>0</td>\n",
              "      <td>0</td>\n",
              "      <td>NaN</td>\n",
              "      <td>NaN</td>\n",
              "      <td>NaN</td>\n",
              "      <td>0</td>\n",
              "      <td>NaN</td>\n",
              "      <td>31.37</td>\n",
              "      <td>Negative</td>\n",
              "      <td>MATAR 30 MIL OPOSITORES,tipos de crimes possíveis</td>\n",
              "      <td>Adhoc Search Export</td>\n",
              "      <td>#useamarelo</td>\n",
              "      <td>7.0</td>\n",
              "      <td>'1287445953272786946'</td>\n",
              "      <td>275714335</td>\n",
              "      <td>Twitter Web App</td>\n",
              "      <td>Vani Da Col 🚩🚩🚩</td>\n",
              "      <td>https://twitter.com/vanidacol</td>\n",
              "      <td>Formação: matemática. Ideologia política: esqu...</td>\n",
              "      <td>3391.0</td>\n",
              "      <td>2937.0</td>\n",
              "      <td>Jul 26, 2020</td>\n",
              "      <td>2:53 PM</td>\n",
              "      <td>Rio Grande do Sul</td>\n",
              "      <td>Caxias do Sul</td>\n",
              "      <td>NaN</td>\n",
              "    </tr>\n",
              "  </tbody>\n",
              "</table>\n",
              "</div>"
            ],
            "text/plain": [
              "                  Date  Headline  ...           City  Document Tags\n",
              "0  26-Jul-2020 03:24PM       NaN  ...            NaN            NaN\n",
              "1  26-Jul-2020 03:23PM       NaN  ...            NaN            NaN\n",
              "2  26-Jul-2020 03:23PM       NaN  ...            NaN            NaN\n",
              "3  26-Jul-2020 03:21PM       NaN  ...            NaN            NaN\n",
              "4  26-Jul-2020 02:53PM       NaN  ...  Caxias do Sul            NaN\n",
              "\n",
              "[5 rows x 37 columns]"
            ]
          },
          "metadata": {
            "tags": []
          },
          "execution_count": 17
        }
      ]
    },
    {
      "cell_type": "code",
      "metadata": {
        "colab": {
          "base_uri": "https://localhost:8080/"
        },
        "id": "PWYCfKc_BJhi",
        "outputId": "f290e8d9-039e-4fe6-a0c3-cde84a3744d2"
      },
      "source": [
        "df.columns"
      ],
      "execution_count": 18,
      "outputs": [
        {
          "output_type": "execute_result",
          "data": {
            "text/plain": [
              "Index(['Date', 'Headline', 'URL', 'Opening Text', 'Hit Sentence', 'Source',\n",
              "       'Influencer', 'Country', 'Subregion', 'Language', 'Reach',\n",
              "       'Desktop Reach', 'Mobile Reach', 'Twitter Social Echo',\n",
              "       'Facebook Social Echo', 'Reddit Social Echo', 'National Viewership',\n",
              "       'Engagement', 'AVE', 'Sentiment', 'Key Phrases', 'Input Name',\n",
              "       'Keywords', 'Twitter Authority', 'Tweet Id', 'Twitter Id',\n",
              "       'Twitter Client', 'Twitter Screen Name', 'Twitter User Profile Url',\n",
              "       'Twitter Bio', 'Twitter Followers', 'Twitter Following',\n",
              "       'Alternate Date Format', 'Time', 'State', 'City', 'Document Tags'],\n",
              "      dtype='object')"
            ]
          },
          "metadata": {
            "tags": []
          },
          "execution_count": 18
        }
      ]
    },
    {
      "cell_type": "code",
      "metadata": {
        "colab": {
          "base_uri": "https://localhost:8080/"
        },
        "id": "C1DjczVmCWS6",
        "outputId": "60c20828-14e7-4c76-eb0e-0bb322041896"
      },
      "source": [
        "df.dtypes"
      ],
      "execution_count": 19,
      "outputs": [
        {
          "output_type": "execute_result",
          "data": {
            "text/plain": [
              "Date                         object\n",
              "Headline                    float64\n",
              "URL                          object\n",
              "Opening Text                float64\n",
              "Hit Sentence                 object\n",
              "Source                       object\n",
              "Influencer                   object\n",
              "Country                      object\n",
              "Subregion                   float64\n",
              "Language                     object\n",
              "Reach                         int64\n",
              "Desktop Reach                 int64\n",
              "Mobile Reach                  int64\n",
              "Twitter Social Echo         float64\n",
              "Facebook Social Echo        float64\n",
              "Reddit Social Echo          float64\n",
              "National Viewership           int64\n",
              "Engagement                  float64\n",
              "AVE                         float64\n",
              "Sentiment                    object\n",
              "Key Phrases                  object\n",
              "Input Name                   object\n",
              "Keywords                     object\n",
              "Twitter Authority           float64\n",
              "Tweet Id                     object\n",
              "Twitter Id                   object\n",
              "Twitter Client               object\n",
              "Twitter Screen Name          object\n",
              "Twitter User Profile Url     object\n",
              "Twitter Bio                  object\n",
              "Twitter Followers           float64\n",
              "Twitter Following           float64\n",
              "Alternate Date Format        object\n",
              "Time                         object\n",
              "State                        object\n",
              "City                         object\n",
              "Document Tags               float64\n",
              "dtype: object"
            ]
          },
          "metadata": {
            "tags": []
          },
          "execution_count": 19
        }
      ]
    },
    {
      "cell_type": "code",
      "metadata": {
        "id": "jGdgvIsGDgoq"
      },
      "source": [
        ""
      ],
      "execution_count": null,
      "outputs": []
    }
  ]
}